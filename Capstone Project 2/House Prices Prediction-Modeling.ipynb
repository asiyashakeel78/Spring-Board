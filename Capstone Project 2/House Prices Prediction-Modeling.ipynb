{
 "cells": [
  {
   "cell_type": "markdown",
   "id": "44a02382",
   "metadata": {},
   "source": [
    "# 3.Modeling<a id='3.Modeling'></a>\n"
   ]
  },
  {
   "cell_type": "markdown",
   "id": "feea356e",
   "metadata": {},
   "source": [
    "\n",
    "## 3.1 Contents<a id='3.1_Contents'></a>\n",
    "\n",
    "  * [3.2 Introduction](#3.2_Introduction)   \n",
    "  * [3.3 Load The Data](#3.3_Load_The_Data)  \n",
    "  * [3.4 Baseline model Using Linear regression](#3.4_Baseline_model_Using_Linear_regression)  \n",
    "  * [3.5 KNN regression](#3.5_KNN_regression)      \n",
    "  * [3.6 MAPE from both the models for the test set](#3.6_MAPE_from_both_the_models_for_the_test_set)\n",
    "  * [3.7 Upper/Lower bound of the errors of residuals](#3.7_Upper/Lower_bound_of_the_errors_of_residualse)  \n",
    "  * [3.8  Scale the Data ](#3.8_Scale_the_Data)\n",
    "  * [3.9 Save data](#3.9_Save_data)\n",
    "  * [3.10 Summary](#3.10_Summary)"
   ]
  },
  {
   "cell_type": "markdown",
   "id": "da3094e6",
   "metadata": {},
   "source": [
    "## 3.2 Introduction<a id='3.2_Introduction'></a>"
   ]
  },
  {
   "cell_type": "markdown",
   "id": "325e80ad",
   "metadata": {},
   "source": [
    "In the modeling phase of our notebook, we aim to predict house prices accurately. By leveraging various techniques such as data preprocessing, feature engineering, model selection, training, evaluation, and fine-tuning, we strive to develop effective models. The iterative process helps us experiment with different approaches and optimize the model's performance to make accurate price predictions for houses."
   ]
  },
  {
   "cell_type": "code",
   "execution_count": 1,
   "id": "c5eb764e",
   "metadata": {},
   "outputs": [],
   "source": [
    "import pandas as pd\n",
    "import matplotlib\n",
    "import matplotlib.pyplot as plt\n",
    "import plotly.express as px\n",
    "import seaborn as sns\n",
    "import os\n",
    "import numpy as np\n",
    "%matplotlib inline\n",
    "from matplotlib.gridspec import GridSpec\n",
    "from sklearn.model_selection import train_test_split\n",
    "import pickle\n",
    "from sklearn import __version__ as sklearn_version\n",
    "from sklearn.decomposition import PCA\n",
    "from sklearn.preprocessing import scale\n",
    "from sklearn.model_selection import train_test_split, cross_validate, GridSearchCV, learning_curve,cross_val_predict\n",
    "from sklearn.preprocessing import StandardScaler, MinMaxScaler\n",
    "from sklearn.dummy import DummyRegressor\n",
    "from sklearn.linear_model import LinearRegression\n",
    "from sklearn.ensemble import RandomForestRegressor\n",
    "from sklearn.metrics import r2_score, mean_squared_error, mean_absolute_error,mean_absolute_percentage_error\n",
    "from sklearn.pipeline import make_pipeline\n",
    "from sklearn.impute import SimpleImputer\n",
    "from sklearn.feature_selection import SelectKBest, f_regression\n",
    "import datetime\n",
    "from sklearn.neighbors import KNeighborsRegressor\n",
    "\n",
    "\n",
    "from library.sb_utils import save_file"
   ]
  },
  {
   "cell_type": "markdown",
   "id": "93dfa9e5",
   "metadata": {},
   "source": [
    "## 3.3 Load The Data<a id='3.3_Load_The_Data'></a>"
   ]
  },
  {
   "cell_type": "markdown",
   "id": "eafa9181",
   "metadata": {},
   "source": [
    "[<a href=\"#3.Modeling\">Back to top</a>]"
   ]
  },
  {
   "cell_type": "code",
   "execution_count": 2,
   "id": "22b879db",
   "metadata": {},
   "outputs": [],
   "source": [
    "house_data = pd.read_csv('./cleaned_data/house_data_cleaned_2.csv') "
   ]
  },
  {
   "cell_type": "code",
   "execution_count": 3,
   "id": "e7f6de45",
   "metadata": {},
   "outputs": [
    {
     "data": {
      "text/plain": [
       "(1460, 74)"
      ]
     },
     "execution_count": 3,
     "metadata": {},
     "output_type": "execute_result"
    }
   ],
   "source": [
    "house_data.shape"
   ]
  },
  {
   "cell_type": "code",
   "execution_count": 4,
   "id": "b2b24d61",
   "metadata": {},
   "outputs": [
    {
     "data": {
      "text/html": [
       "<div>\n",
       "<style scoped>\n",
       "    .dataframe tbody tr th:only-of-type {\n",
       "        vertical-align: middle;\n",
       "    }\n",
       "\n",
       "    .dataframe tbody tr th {\n",
       "        vertical-align: top;\n",
       "    }\n",
       "\n",
       "    .dataframe thead th {\n",
       "        text-align: right;\n",
       "    }\n",
       "</style>\n",
       "<table border=\"1\" class=\"dataframe\">\n",
       "  <thead>\n",
       "    <tr style=\"text-align: right;\">\n",
       "      <th></th>\n",
       "      <th>MSSubClass</th>\n",
       "      <th>MSZoning</th>\n",
       "      <th>LotArea</th>\n",
       "      <th>Street</th>\n",
       "      <th>LotShape</th>\n",
       "      <th>LandContour</th>\n",
       "      <th>Utilities</th>\n",
       "      <th>LotConfig</th>\n",
       "      <th>LandSlope</th>\n",
       "      <th>Neighborhood</th>\n",
       "      <th>...</th>\n",
       "      <th>3SsnPorch</th>\n",
       "      <th>ScreenPorch</th>\n",
       "      <th>PoolArea</th>\n",
       "      <th>MiscVal</th>\n",
       "      <th>MoSold</th>\n",
       "      <th>YrSold</th>\n",
       "      <th>SaleType</th>\n",
       "      <th>SaleCondition</th>\n",
       "      <th>SalePrice</th>\n",
       "      <th>House_age</th>\n",
       "    </tr>\n",
       "  </thead>\n",
       "  <tbody>\n",
       "    <tr>\n",
       "      <th>0</th>\n",
       "      <td>60</td>\n",
       "      <td>RL</td>\n",
       "      <td>8450</td>\n",
       "      <td>Pave</td>\n",
       "      <td>Reg</td>\n",
       "      <td>Lvl</td>\n",
       "      <td>AllPub</td>\n",
       "      <td>Inside</td>\n",
       "      <td>Gtl</td>\n",
       "      <td>CollgCr</td>\n",
       "      <td>...</td>\n",
       "      <td>0</td>\n",
       "      <td>0</td>\n",
       "      <td>0</td>\n",
       "      <td>0</td>\n",
       "      <td>2</td>\n",
       "      <td>2008</td>\n",
       "      <td>WD</td>\n",
       "      <td>Normal</td>\n",
       "      <td>208500</td>\n",
       "      <td>20</td>\n",
       "    </tr>\n",
       "    <tr>\n",
       "      <th>1</th>\n",
       "      <td>20</td>\n",
       "      <td>RL</td>\n",
       "      <td>9600</td>\n",
       "      <td>Pave</td>\n",
       "      <td>Reg</td>\n",
       "      <td>Lvl</td>\n",
       "      <td>AllPub</td>\n",
       "      <td>FR2</td>\n",
       "      <td>Gtl</td>\n",
       "      <td>Veenker</td>\n",
       "      <td>...</td>\n",
       "      <td>0</td>\n",
       "      <td>0</td>\n",
       "      <td>0</td>\n",
       "      <td>0</td>\n",
       "      <td>5</td>\n",
       "      <td>2007</td>\n",
       "      <td>WD</td>\n",
       "      <td>Normal</td>\n",
       "      <td>181500</td>\n",
       "      <td>47</td>\n",
       "    </tr>\n",
       "    <tr>\n",
       "      <th>2</th>\n",
       "      <td>60</td>\n",
       "      <td>RL</td>\n",
       "      <td>11250</td>\n",
       "      <td>Pave</td>\n",
       "      <td>IR1</td>\n",
       "      <td>Lvl</td>\n",
       "      <td>AllPub</td>\n",
       "      <td>Inside</td>\n",
       "      <td>Gtl</td>\n",
       "      <td>CollgCr</td>\n",
       "      <td>...</td>\n",
       "      <td>0</td>\n",
       "      <td>0</td>\n",
       "      <td>0</td>\n",
       "      <td>0</td>\n",
       "      <td>9</td>\n",
       "      <td>2008</td>\n",
       "      <td>WD</td>\n",
       "      <td>Normal</td>\n",
       "      <td>223500</td>\n",
       "      <td>22</td>\n",
       "    </tr>\n",
       "    <tr>\n",
       "      <th>3</th>\n",
       "      <td>70</td>\n",
       "      <td>RL</td>\n",
       "      <td>9550</td>\n",
       "      <td>Pave</td>\n",
       "      <td>IR1</td>\n",
       "      <td>Lvl</td>\n",
       "      <td>AllPub</td>\n",
       "      <td>Corner</td>\n",
       "      <td>Gtl</td>\n",
       "      <td>Crawfor</td>\n",
       "      <td>...</td>\n",
       "      <td>0</td>\n",
       "      <td>0</td>\n",
       "      <td>0</td>\n",
       "      <td>0</td>\n",
       "      <td>2</td>\n",
       "      <td>2006</td>\n",
       "      <td>WD</td>\n",
       "      <td>Abnorml</td>\n",
       "      <td>140000</td>\n",
       "      <td>108</td>\n",
       "    </tr>\n",
       "    <tr>\n",
       "      <th>4</th>\n",
       "      <td>60</td>\n",
       "      <td>RL</td>\n",
       "      <td>14260</td>\n",
       "      <td>Pave</td>\n",
       "      <td>IR1</td>\n",
       "      <td>Lvl</td>\n",
       "      <td>AllPub</td>\n",
       "      <td>FR2</td>\n",
       "      <td>Gtl</td>\n",
       "      <td>NoRidge</td>\n",
       "      <td>...</td>\n",
       "      <td>0</td>\n",
       "      <td>0</td>\n",
       "      <td>0</td>\n",
       "      <td>0</td>\n",
       "      <td>12</td>\n",
       "      <td>2008</td>\n",
       "      <td>WD</td>\n",
       "      <td>Normal</td>\n",
       "      <td>250000</td>\n",
       "      <td>23</td>\n",
       "    </tr>\n",
       "  </tbody>\n",
       "</table>\n",
       "<p>5 rows × 74 columns</p>\n",
       "</div>"
      ],
      "text/plain": [
       "   MSSubClass MSZoning  LotArea Street LotShape LandContour Utilities  \\\n",
       "0          60       RL     8450   Pave      Reg         Lvl    AllPub   \n",
       "1          20       RL     9600   Pave      Reg         Lvl    AllPub   \n",
       "2          60       RL    11250   Pave      IR1         Lvl    AllPub   \n",
       "3          70       RL     9550   Pave      IR1         Lvl    AllPub   \n",
       "4          60       RL    14260   Pave      IR1         Lvl    AllPub   \n",
       "\n",
       "  LotConfig LandSlope Neighborhood  ... 3SsnPorch ScreenPorch PoolArea  \\\n",
       "0    Inside       Gtl      CollgCr  ...         0           0        0   \n",
       "1       FR2       Gtl      Veenker  ...         0           0        0   \n",
       "2    Inside       Gtl      CollgCr  ...         0           0        0   \n",
       "3    Corner       Gtl      Crawfor  ...         0           0        0   \n",
       "4       FR2       Gtl      NoRidge  ...         0           0        0   \n",
       "\n",
       "  MiscVal  MoSold  YrSold  SaleType SaleCondition SalePrice House_age  \n",
       "0       0       2    2008        WD        Normal    208500        20  \n",
       "1       0       5    2007        WD        Normal    181500        47  \n",
       "2       0       9    2008        WD        Normal    223500        22  \n",
       "3       0       2    2006        WD       Abnorml    140000       108  \n",
       "4       0      12    2008        WD        Normal    250000        23  \n",
       "\n",
       "[5 rows x 74 columns]"
      ]
     },
     "execution_count": 4,
     "metadata": {},
     "output_type": "execute_result"
    }
   ],
   "source": [
    "house_data.head()"
   ]
  },
  {
   "cell_type": "code",
   "execution_count": 5,
   "id": "e80858e0",
   "metadata": {},
   "outputs": [
    {
     "data": {
      "text/plain": [
       "MSSubClass      0\n",
       "GarageFinish    0\n",
       "FireplaceQu     0\n",
       "Fireplaces      0\n",
       "Functional      0\n",
       "               ..\n",
       "ExterCond       0\n",
       "ExterQual       0\n",
       "MasVnrArea      0\n",
       "MasVnrType      0\n",
       "House_age       0\n",
       "Length: 74, dtype: int64"
      ]
     },
     "execution_count": 5,
     "metadata": {},
     "output_type": "execute_result"
    }
   ],
   "source": [
    "house_data.isnull().sum().sort_values(ascending=False) # check for any missing values"
   ]
  },
  {
   "cell_type": "code",
   "execution_count": 6,
   "id": "dc80210a",
   "metadata": {},
   "outputs": [
    {
     "data": {
      "text/plain": [
       "MSZoning          5\n",
       "Street            2\n",
       "LotShape          4\n",
       "LandContour       4\n",
       "Utilities         2\n",
       "LotConfig         5\n",
       "LandSlope         3\n",
       "Neighborhood     25\n",
       "Condition1        9\n",
       "Condition2        8\n",
       "BldgType          5\n",
       "HouseStyle        8\n",
       "RoofStyle         6\n",
       "RoofMatl          8\n",
       "Exterior1st      15\n",
       "Exterior2nd      16\n",
       "MasVnrType        5\n",
       "ExterQual         4\n",
       "ExterCond         5\n",
       "Foundation        6\n",
       "BsmtQual          5\n",
       "BsmtCond          5\n",
       "BsmtExposure      5\n",
       "BsmtFinType1      7\n",
       "BsmtFinType2      7\n",
       "Heating           6\n",
       "HeatingQC         5\n",
       "CentralAir        2\n",
       "Electrical        6\n",
       "KitchenQual       4\n",
       "Functional        7\n",
       "FireplaceQu       6\n",
       "GarageType        7\n",
       "GarageFinish      4\n",
       "GarageQual        6\n",
       "GarageCond        6\n",
       "PavedDrive        3\n",
       "SaleType          9\n",
       "SaleCondition     6\n",
       "dtype: int64"
      ]
     },
     "execution_count": 6,
     "metadata": {},
     "output_type": "execute_result"
    }
   ],
   "source": [
    "house_data.select_dtypes(include='object').nunique() # check no. of unique values for categorical data"
   ]
  },
  {
   "cell_type": "code",
   "execution_count": 7,
   "id": "fa95e982",
   "metadata": {},
   "outputs": [],
   "source": [
    "# Separate Independent and dependent variables\n",
    "\n",
    "X = house_data.drop(\"SalePrice\", axis=1)\n",
    "\n",
    "y = house_data[[\"SalePrice\"]]"
   ]
  },
  {
   "cell_type": "code",
   "execution_count": 8,
   "id": "81f20b6e",
   "metadata": {},
   "outputs": [
    {
     "data": {
      "text/html": [
       "<div>\n",
       "<style scoped>\n",
       "    .dataframe tbody tr th:only-of-type {\n",
       "        vertical-align: middle;\n",
       "    }\n",
       "\n",
       "    .dataframe tbody tr th {\n",
       "        vertical-align: top;\n",
       "    }\n",
       "\n",
       "    .dataframe thead th {\n",
       "        text-align: right;\n",
       "    }\n",
       "</style>\n",
       "<table border=\"1\" class=\"dataframe\">\n",
       "  <thead>\n",
       "    <tr style=\"text-align: right;\">\n",
       "      <th></th>\n",
       "      <th>MSSubClass</th>\n",
       "      <th>MSZoning</th>\n",
       "      <th>LotArea</th>\n",
       "      <th>Street</th>\n",
       "      <th>LotShape</th>\n",
       "      <th>LandContour</th>\n",
       "      <th>Utilities</th>\n",
       "      <th>LotConfig</th>\n",
       "      <th>LandSlope</th>\n",
       "      <th>Neighborhood</th>\n",
       "      <th>...</th>\n",
       "      <th>EnclosedPorch</th>\n",
       "      <th>3SsnPorch</th>\n",
       "      <th>ScreenPorch</th>\n",
       "      <th>PoolArea</th>\n",
       "      <th>MiscVal</th>\n",
       "      <th>MoSold</th>\n",
       "      <th>YrSold</th>\n",
       "      <th>SaleType</th>\n",
       "      <th>SaleCondition</th>\n",
       "      <th>House_age</th>\n",
       "    </tr>\n",
       "  </thead>\n",
       "  <tbody>\n",
       "    <tr>\n",
       "      <th>0</th>\n",
       "      <td>60</td>\n",
       "      <td>RL</td>\n",
       "      <td>8450</td>\n",
       "      <td>Pave</td>\n",
       "      <td>Reg</td>\n",
       "      <td>Lvl</td>\n",
       "      <td>AllPub</td>\n",
       "      <td>Inside</td>\n",
       "      <td>Gtl</td>\n",
       "      <td>CollgCr</td>\n",
       "      <td>...</td>\n",
       "      <td>0</td>\n",
       "      <td>0</td>\n",
       "      <td>0</td>\n",
       "      <td>0</td>\n",
       "      <td>0</td>\n",
       "      <td>2</td>\n",
       "      <td>2008</td>\n",
       "      <td>WD</td>\n",
       "      <td>Normal</td>\n",
       "      <td>20</td>\n",
       "    </tr>\n",
       "    <tr>\n",
       "      <th>1</th>\n",
       "      <td>20</td>\n",
       "      <td>RL</td>\n",
       "      <td>9600</td>\n",
       "      <td>Pave</td>\n",
       "      <td>Reg</td>\n",
       "      <td>Lvl</td>\n",
       "      <td>AllPub</td>\n",
       "      <td>FR2</td>\n",
       "      <td>Gtl</td>\n",
       "      <td>Veenker</td>\n",
       "      <td>...</td>\n",
       "      <td>0</td>\n",
       "      <td>0</td>\n",
       "      <td>0</td>\n",
       "      <td>0</td>\n",
       "      <td>0</td>\n",
       "      <td>5</td>\n",
       "      <td>2007</td>\n",
       "      <td>WD</td>\n",
       "      <td>Normal</td>\n",
       "      <td>47</td>\n",
       "    </tr>\n",
       "    <tr>\n",
       "      <th>2</th>\n",
       "      <td>60</td>\n",
       "      <td>RL</td>\n",
       "      <td>11250</td>\n",
       "      <td>Pave</td>\n",
       "      <td>IR1</td>\n",
       "      <td>Lvl</td>\n",
       "      <td>AllPub</td>\n",
       "      <td>Inside</td>\n",
       "      <td>Gtl</td>\n",
       "      <td>CollgCr</td>\n",
       "      <td>...</td>\n",
       "      <td>0</td>\n",
       "      <td>0</td>\n",
       "      <td>0</td>\n",
       "      <td>0</td>\n",
       "      <td>0</td>\n",
       "      <td>9</td>\n",
       "      <td>2008</td>\n",
       "      <td>WD</td>\n",
       "      <td>Normal</td>\n",
       "      <td>22</td>\n",
       "    </tr>\n",
       "    <tr>\n",
       "      <th>3</th>\n",
       "      <td>70</td>\n",
       "      <td>RL</td>\n",
       "      <td>9550</td>\n",
       "      <td>Pave</td>\n",
       "      <td>IR1</td>\n",
       "      <td>Lvl</td>\n",
       "      <td>AllPub</td>\n",
       "      <td>Corner</td>\n",
       "      <td>Gtl</td>\n",
       "      <td>Crawfor</td>\n",
       "      <td>...</td>\n",
       "      <td>272</td>\n",
       "      <td>0</td>\n",
       "      <td>0</td>\n",
       "      <td>0</td>\n",
       "      <td>0</td>\n",
       "      <td>2</td>\n",
       "      <td>2006</td>\n",
       "      <td>WD</td>\n",
       "      <td>Abnorml</td>\n",
       "      <td>108</td>\n",
       "    </tr>\n",
       "    <tr>\n",
       "      <th>4</th>\n",
       "      <td>60</td>\n",
       "      <td>RL</td>\n",
       "      <td>14260</td>\n",
       "      <td>Pave</td>\n",
       "      <td>IR1</td>\n",
       "      <td>Lvl</td>\n",
       "      <td>AllPub</td>\n",
       "      <td>FR2</td>\n",
       "      <td>Gtl</td>\n",
       "      <td>NoRidge</td>\n",
       "      <td>...</td>\n",
       "      <td>0</td>\n",
       "      <td>0</td>\n",
       "      <td>0</td>\n",
       "      <td>0</td>\n",
       "      <td>0</td>\n",
       "      <td>12</td>\n",
       "      <td>2008</td>\n",
       "      <td>WD</td>\n",
       "      <td>Normal</td>\n",
       "      <td>23</td>\n",
       "    </tr>\n",
       "    <tr>\n",
       "      <th>...</th>\n",
       "      <td>...</td>\n",
       "      <td>...</td>\n",
       "      <td>...</td>\n",
       "      <td>...</td>\n",
       "      <td>...</td>\n",
       "      <td>...</td>\n",
       "      <td>...</td>\n",
       "      <td>...</td>\n",
       "      <td>...</td>\n",
       "      <td>...</td>\n",
       "      <td>...</td>\n",
       "      <td>...</td>\n",
       "      <td>...</td>\n",
       "      <td>...</td>\n",
       "      <td>...</td>\n",
       "      <td>...</td>\n",
       "      <td>...</td>\n",
       "      <td>...</td>\n",
       "      <td>...</td>\n",
       "      <td>...</td>\n",
       "      <td>...</td>\n",
       "    </tr>\n",
       "    <tr>\n",
       "      <th>1455</th>\n",
       "      <td>60</td>\n",
       "      <td>RL</td>\n",
       "      <td>7917</td>\n",
       "      <td>Pave</td>\n",
       "      <td>Reg</td>\n",
       "      <td>Lvl</td>\n",
       "      <td>AllPub</td>\n",
       "      <td>Inside</td>\n",
       "      <td>Gtl</td>\n",
       "      <td>Gilbert</td>\n",
       "      <td>...</td>\n",
       "      <td>0</td>\n",
       "      <td>0</td>\n",
       "      <td>0</td>\n",
       "      <td>0</td>\n",
       "      <td>0</td>\n",
       "      <td>8</td>\n",
       "      <td>2007</td>\n",
       "      <td>WD</td>\n",
       "      <td>Normal</td>\n",
       "      <td>24</td>\n",
       "    </tr>\n",
       "    <tr>\n",
       "      <th>1456</th>\n",
       "      <td>20</td>\n",
       "      <td>RL</td>\n",
       "      <td>13175</td>\n",
       "      <td>Pave</td>\n",
       "      <td>Reg</td>\n",
       "      <td>Lvl</td>\n",
       "      <td>AllPub</td>\n",
       "      <td>Inside</td>\n",
       "      <td>Gtl</td>\n",
       "      <td>NWAmes</td>\n",
       "      <td>...</td>\n",
       "      <td>0</td>\n",
       "      <td>0</td>\n",
       "      <td>0</td>\n",
       "      <td>0</td>\n",
       "      <td>0</td>\n",
       "      <td>2</td>\n",
       "      <td>2010</td>\n",
       "      <td>WD</td>\n",
       "      <td>Normal</td>\n",
       "      <td>45</td>\n",
       "    </tr>\n",
       "    <tr>\n",
       "      <th>1457</th>\n",
       "      <td>70</td>\n",
       "      <td>RL</td>\n",
       "      <td>9042</td>\n",
       "      <td>Pave</td>\n",
       "      <td>Reg</td>\n",
       "      <td>Lvl</td>\n",
       "      <td>AllPub</td>\n",
       "      <td>Inside</td>\n",
       "      <td>Gtl</td>\n",
       "      <td>Crawfor</td>\n",
       "      <td>...</td>\n",
       "      <td>0</td>\n",
       "      <td>0</td>\n",
       "      <td>0</td>\n",
       "      <td>0</td>\n",
       "      <td>2500</td>\n",
       "      <td>5</td>\n",
       "      <td>2010</td>\n",
       "      <td>WD</td>\n",
       "      <td>Normal</td>\n",
       "      <td>82</td>\n",
       "    </tr>\n",
       "    <tr>\n",
       "      <th>1458</th>\n",
       "      <td>20</td>\n",
       "      <td>RL</td>\n",
       "      <td>9717</td>\n",
       "      <td>Pave</td>\n",
       "      <td>Reg</td>\n",
       "      <td>Lvl</td>\n",
       "      <td>AllPub</td>\n",
       "      <td>Inside</td>\n",
       "      <td>Gtl</td>\n",
       "      <td>NAmes</td>\n",
       "      <td>...</td>\n",
       "      <td>112</td>\n",
       "      <td>0</td>\n",
       "      <td>0</td>\n",
       "      <td>0</td>\n",
       "      <td>0</td>\n",
       "      <td>4</td>\n",
       "      <td>2010</td>\n",
       "      <td>WD</td>\n",
       "      <td>Normal</td>\n",
       "      <td>73</td>\n",
       "    </tr>\n",
       "    <tr>\n",
       "      <th>1459</th>\n",
       "      <td>20</td>\n",
       "      <td>RL</td>\n",
       "      <td>9937</td>\n",
       "      <td>Pave</td>\n",
       "      <td>Reg</td>\n",
       "      <td>Lvl</td>\n",
       "      <td>AllPub</td>\n",
       "      <td>Inside</td>\n",
       "      <td>Gtl</td>\n",
       "      <td>Edwards</td>\n",
       "      <td>...</td>\n",
       "      <td>0</td>\n",
       "      <td>0</td>\n",
       "      <td>0</td>\n",
       "      <td>0</td>\n",
       "      <td>0</td>\n",
       "      <td>6</td>\n",
       "      <td>2008</td>\n",
       "      <td>WD</td>\n",
       "      <td>Normal</td>\n",
       "      <td>58</td>\n",
       "    </tr>\n",
       "  </tbody>\n",
       "</table>\n",
       "<p>1460 rows × 73 columns</p>\n",
       "</div>"
      ],
      "text/plain": [
       "      MSSubClass MSZoning  LotArea Street LotShape LandContour Utilities  \\\n",
       "0             60       RL     8450   Pave      Reg         Lvl    AllPub   \n",
       "1             20       RL     9600   Pave      Reg         Lvl    AllPub   \n",
       "2             60       RL    11250   Pave      IR1         Lvl    AllPub   \n",
       "3             70       RL     9550   Pave      IR1         Lvl    AllPub   \n",
       "4             60       RL    14260   Pave      IR1         Lvl    AllPub   \n",
       "...          ...      ...      ...    ...      ...         ...       ...   \n",
       "1455          60       RL     7917   Pave      Reg         Lvl    AllPub   \n",
       "1456          20       RL    13175   Pave      Reg         Lvl    AllPub   \n",
       "1457          70       RL     9042   Pave      Reg         Lvl    AllPub   \n",
       "1458          20       RL     9717   Pave      Reg         Lvl    AllPub   \n",
       "1459          20       RL     9937   Pave      Reg         Lvl    AllPub   \n",
       "\n",
       "     LotConfig LandSlope Neighborhood  ... EnclosedPorch 3SsnPorch  \\\n",
       "0       Inside       Gtl      CollgCr  ...             0         0   \n",
       "1          FR2       Gtl      Veenker  ...             0         0   \n",
       "2       Inside       Gtl      CollgCr  ...             0         0   \n",
       "3       Corner       Gtl      Crawfor  ...           272         0   \n",
       "4          FR2       Gtl      NoRidge  ...             0         0   \n",
       "...        ...       ...          ...  ...           ...       ...   \n",
       "1455    Inside       Gtl      Gilbert  ...             0         0   \n",
       "1456    Inside       Gtl       NWAmes  ...             0         0   \n",
       "1457    Inside       Gtl      Crawfor  ...             0         0   \n",
       "1458    Inside       Gtl        NAmes  ...           112         0   \n",
       "1459    Inside       Gtl      Edwards  ...             0         0   \n",
       "\n",
       "     ScreenPorch PoolArea  MiscVal  MoSold  YrSold SaleType SaleCondition  \\\n",
       "0              0        0        0       2    2008       WD        Normal   \n",
       "1              0        0        0       5    2007       WD        Normal   \n",
       "2              0        0        0       9    2008       WD        Normal   \n",
       "3              0        0        0       2    2006       WD       Abnorml   \n",
       "4              0        0        0      12    2008       WD        Normal   \n",
       "...          ...      ...      ...     ...     ...      ...           ...   \n",
       "1455           0        0        0       8    2007       WD        Normal   \n",
       "1456           0        0        0       2    2010       WD        Normal   \n",
       "1457           0        0     2500       5    2010       WD        Normal   \n",
       "1458           0        0        0       4    2010       WD        Normal   \n",
       "1459           0        0        0       6    2008       WD        Normal   \n",
       "\n",
       "     House_age  \n",
       "0           20  \n",
       "1           47  \n",
       "2           22  \n",
       "3          108  \n",
       "4           23  \n",
       "...        ...  \n",
       "1455        24  \n",
       "1456        45  \n",
       "1457        82  \n",
       "1458        73  \n",
       "1459        58  \n",
       "\n",
       "[1460 rows x 73 columns]"
      ]
     },
     "execution_count": 8,
     "metadata": {},
     "output_type": "execute_result"
    }
   ],
   "source": [
    "X"
   ]
  },
  {
   "cell_type": "markdown",
   "id": "6dc951e5",
   "metadata": {},
   "source": [
    "[<a href=\"#3.Modeling\">Back to top</a>]"
   ]
  },
  {
   "cell_type": "code",
   "execution_count": 9,
   "id": "32a36e78",
   "metadata": {},
   "outputs": [
    {
     "data": {
      "text/html": [
       "<div>\n",
       "<style scoped>\n",
       "    .dataframe tbody tr th:only-of-type {\n",
       "        vertical-align: middle;\n",
       "    }\n",
       "\n",
       "    .dataframe tbody tr th {\n",
       "        vertical-align: top;\n",
       "    }\n",
       "\n",
       "    .dataframe thead th {\n",
       "        text-align: right;\n",
       "    }\n",
       "</style>\n",
       "<table border=\"1\" class=\"dataframe\">\n",
       "  <thead>\n",
       "    <tr style=\"text-align: right;\">\n",
       "      <th></th>\n",
       "      <th>SalePrice</th>\n",
       "    </tr>\n",
       "  </thead>\n",
       "  <tbody>\n",
       "    <tr>\n",
       "      <th>0</th>\n",
       "      <td>208500</td>\n",
       "    </tr>\n",
       "    <tr>\n",
       "      <th>1</th>\n",
       "      <td>181500</td>\n",
       "    </tr>\n",
       "    <tr>\n",
       "      <th>2</th>\n",
       "      <td>223500</td>\n",
       "    </tr>\n",
       "    <tr>\n",
       "      <th>3</th>\n",
       "      <td>140000</td>\n",
       "    </tr>\n",
       "    <tr>\n",
       "      <th>4</th>\n",
       "      <td>250000</td>\n",
       "    </tr>\n",
       "    <tr>\n",
       "      <th>...</th>\n",
       "      <td>...</td>\n",
       "    </tr>\n",
       "    <tr>\n",
       "      <th>1455</th>\n",
       "      <td>175000</td>\n",
       "    </tr>\n",
       "    <tr>\n",
       "      <th>1456</th>\n",
       "      <td>210000</td>\n",
       "    </tr>\n",
       "    <tr>\n",
       "      <th>1457</th>\n",
       "      <td>266500</td>\n",
       "    </tr>\n",
       "    <tr>\n",
       "      <th>1458</th>\n",
       "      <td>142125</td>\n",
       "    </tr>\n",
       "    <tr>\n",
       "      <th>1459</th>\n",
       "      <td>147500</td>\n",
       "    </tr>\n",
       "  </tbody>\n",
       "</table>\n",
       "<p>1460 rows × 1 columns</p>\n",
       "</div>"
      ],
      "text/plain": [
       "      SalePrice\n",
       "0        208500\n",
       "1        181500\n",
       "2        223500\n",
       "3        140000\n",
       "4        250000\n",
       "...         ...\n",
       "1455     175000\n",
       "1456     210000\n",
       "1457     266500\n",
       "1458     142125\n",
       "1459     147500\n",
       "\n",
       "[1460 rows x 1 columns]"
      ]
     },
     "execution_count": 9,
     "metadata": {},
     "output_type": "execute_result"
    }
   ],
   "source": [
    "y"
   ]
  },
  {
   "cell_type": "markdown",
   "id": "a523c0ab",
   "metadata": {},
   "source": [
    "### Create dummy variables to deal with categorical inputs"
   ]
  },
  {
   "cell_type": "code",
   "execution_count": 10,
   "id": "e4446502",
   "metadata": {},
   "outputs": [],
   "source": [
    "X = pd.get_dummies(X, dtype='int64') # changed all the categorical values to dummy variables"
   ]
  },
  {
   "cell_type": "code",
   "execution_count": 11,
   "id": "5a7b2a88",
   "metadata": {},
   "outputs": [
    {
     "data": {
      "text/html": [
       "<div>\n",
       "<style scoped>\n",
       "    .dataframe tbody tr th:only-of-type {\n",
       "        vertical-align: middle;\n",
       "    }\n",
       "\n",
       "    .dataframe tbody tr th {\n",
       "        vertical-align: top;\n",
       "    }\n",
       "\n",
       "    .dataframe thead th {\n",
       "        text-align: right;\n",
       "    }\n",
       "</style>\n",
       "<table border=\"1\" class=\"dataframe\">\n",
       "  <thead>\n",
       "    <tr style=\"text-align: right;\">\n",
       "      <th></th>\n",
       "      <th>MSSubClass</th>\n",
       "      <th>LotArea</th>\n",
       "      <th>OverallQual</th>\n",
       "      <th>OverallCond</th>\n",
       "      <th>YearRemodAdd</th>\n",
       "      <th>MasVnrArea</th>\n",
       "      <th>BsmtFinSF1</th>\n",
       "      <th>BsmtFinSF2</th>\n",
       "      <th>BsmtUnfSF</th>\n",
       "      <th>TotalBsmtSF</th>\n",
       "      <th>...</th>\n",
       "      <th>SaleType_ConLw</th>\n",
       "      <th>SaleType_New</th>\n",
       "      <th>SaleType_Oth</th>\n",
       "      <th>SaleType_WD</th>\n",
       "      <th>SaleCondition_Abnorml</th>\n",
       "      <th>SaleCondition_AdjLand</th>\n",
       "      <th>SaleCondition_Alloca</th>\n",
       "      <th>SaleCondition_Family</th>\n",
       "      <th>SaleCondition_Normal</th>\n",
       "      <th>SaleCondition_Partial</th>\n",
       "    </tr>\n",
       "  </thead>\n",
       "  <tbody>\n",
       "    <tr>\n",
       "      <th>0</th>\n",
       "      <td>60</td>\n",
       "      <td>8450</td>\n",
       "      <td>7</td>\n",
       "      <td>5</td>\n",
       "      <td>2003</td>\n",
       "      <td>196.0</td>\n",
       "      <td>706</td>\n",
       "      <td>0</td>\n",
       "      <td>150</td>\n",
       "      <td>856</td>\n",
       "      <td>...</td>\n",
       "      <td>0</td>\n",
       "      <td>0</td>\n",
       "      <td>0</td>\n",
       "      <td>1</td>\n",
       "      <td>0</td>\n",
       "      <td>0</td>\n",
       "      <td>0</td>\n",
       "      <td>0</td>\n",
       "      <td>1</td>\n",
       "      <td>0</td>\n",
       "    </tr>\n",
       "    <tr>\n",
       "      <th>1</th>\n",
       "      <td>20</td>\n",
       "      <td>9600</td>\n",
       "      <td>6</td>\n",
       "      <td>8</td>\n",
       "      <td>1976</td>\n",
       "      <td>0.0</td>\n",
       "      <td>978</td>\n",
       "      <td>0</td>\n",
       "      <td>284</td>\n",
       "      <td>1262</td>\n",
       "      <td>...</td>\n",
       "      <td>0</td>\n",
       "      <td>0</td>\n",
       "      <td>0</td>\n",
       "      <td>1</td>\n",
       "      <td>0</td>\n",
       "      <td>0</td>\n",
       "      <td>0</td>\n",
       "      <td>0</td>\n",
       "      <td>1</td>\n",
       "      <td>0</td>\n",
       "    </tr>\n",
       "    <tr>\n",
       "      <th>2</th>\n",
       "      <td>60</td>\n",
       "      <td>11250</td>\n",
       "      <td>7</td>\n",
       "      <td>5</td>\n",
       "      <td>2002</td>\n",
       "      <td>162.0</td>\n",
       "      <td>486</td>\n",
       "      <td>0</td>\n",
       "      <td>434</td>\n",
       "      <td>920</td>\n",
       "      <td>...</td>\n",
       "      <td>0</td>\n",
       "      <td>0</td>\n",
       "      <td>0</td>\n",
       "      <td>1</td>\n",
       "      <td>0</td>\n",
       "      <td>0</td>\n",
       "      <td>0</td>\n",
       "      <td>0</td>\n",
       "      <td>1</td>\n",
       "      <td>0</td>\n",
       "    </tr>\n",
       "    <tr>\n",
       "      <th>3</th>\n",
       "      <td>70</td>\n",
       "      <td>9550</td>\n",
       "      <td>7</td>\n",
       "      <td>5</td>\n",
       "      <td>1970</td>\n",
       "      <td>0.0</td>\n",
       "      <td>216</td>\n",
       "      <td>0</td>\n",
       "      <td>540</td>\n",
       "      <td>756</td>\n",
       "      <td>...</td>\n",
       "      <td>0</td>\n",
       "      <td>0</td>\n",
       "      <td>0</td>\n",
       "      <td>1</td>\n",
       "      <td>1</td>\n",
       "      <td>0</td>\n",
       "      <td>0</td>\n",
       "      <td>0</td>\n",
       "      <td>0</td>\n",
       "      <td>0</td>\n",
       "    </tr>\n",
       "    <tr>\n",
       "      <th>4</th>\n",
       "      <td>60</td>\n",
       "      <td>14260</td>\n",
       "      <td>8</td>\n",
       "      <td>5</td>\n",
       "      <td>2000</td>\n",
       "      <td>350.0</td>\n",
       "      <td>655</td>\n",
       "      <td>0</td>\n",
       "      <td>490</td>\n",
       "      <td>1145</td>\n",
       "      <td>...</td>\n",
       "      <td>0</td>\n",
       "      <td>0</td>\n",
       "      <td>0</td>\n",
       "      <td>1</td>\n",
       "      <td>0</td>\n",
       "      <td>0</td>\n",
       "      <td>0</td>\n",
       "      <td>0</td>\n",
       "      <td>1</td>\n",
       "      <td>0</td>\n",
       "    </tr>\n",
       "    <tr>\n",
       "      <th>...</th>\n",
       "      <td>...</td>\n",
       "      <td>...</td>\n",
       "      <td>...</td>\n",
       "      <td>...</td>\n",
       "      <td>...</td>\n",
       "      <td>...</td>\n",
       "      <td>...</td>\n",
       "      <td>...</td>\n",
       "      <td>...</td>\n",
       "      <td>...</td>\n",
       "      <td>...</td>\n",
       "      <td>...</td>\n",
       "      <td>...</td>\n",
       "      <td>...</td>\n",
       "      <td>...</td>\n",
       "      <td>...</td>\n",
       "      <td>...</td>\n",
       "      <td>...</td>\n",
       "      <td>...</td>\n",
       "      <td>...</td>\n",
       "      <td>...</td>\n",
       "    </tr>\n",
       "    <tr>\n",
       "      <th>1455</th>\n",
       "      <td>60</td>\n",
       "      <td>7917</td>\n",
       "      <td>6</td>\n",
       "      <td>5</td>\n",
       "      <td>2000</td>\n",
       "      <td>0.0</td>\n",
       "      <td>0</td>\n",
       "      <td>0</td>\n",
       "      <td>953</td>\n",
       "      <td>953</td>\n",
       "      <td>...</td>\n",
       "      <td>0</td>\n",
       "      <td>0</td>\n",
       "      <td>0</td>\n",
       "      <td>1</td>\n",
       "      <td>0</td>\n",
       "      <td>0</td>\n",
       "      <td>0</td>\n",
       "      <td>0</td>\n",
       "      <td>1</td>\n",
       "      <td>0</td>\n",
       "    </tr>\n",
       "    <tr>\n",
       "      <th>1456</th>\n",
       "      <td>20</td>\n",
       "      <td>13175</td>\n",
       "      <td>6</td>\n",
       "      <td>6</td>\n",
       "      <td>1988</td>\n",
       "      <td>119.0</td>\n",
       "      <td>790</td>\n",
       "      <td>163</td>\n",
       "      <td>589</td>\n",
       "      <td>1542</td>\n",
       "      <td>...</td>\n",
       "      <td>0</td>\n",
       "      <td>0</td>\n",
       "      <td>0</td>\n",
       "      <td>1</td>\n",
       "      <td>0</td>\n",
       "      <td>0</td>\n",
       "      <td>0</td>\n",
       "      <td>0</td>\n",
       "      <td>1</td>\n",
       "      <td>0</td>\n",
       "    </tr>\n",
       "    <tr>\n",
       "      <th>1457</th>\n",
       "      <td>70</td>\n",
       "      <td>9042</td>\n",
       "      <td>7</td>\n",
       "      <td>9</td>\n",
       "      <td>2006</td>\n",
       "      <td>0.0</td>\n",
       "      <td>275</td>\n",
       "      <td>0</td>\n",
       "      <td>877</td>\n",
       "      <td>1152</td>\n",
       "      <td>...</td>\n",
       "      <td>0</td>\n",
       "      <td>0</td>\n",
       "      <td>0</td>\n",
       "      <td>1</td>\n",
       "      <td>0</td>\n",
       "      <td>0</td>\n",
       "      <td>0</td>\n",
       "      <td>0</td>\n",
       "      <td>1</td>\n",
       "      <td>0</td>\n",
       "    </tr>\n",
       "    <tr>\n",
       "      <th>1458</th>\n",
       "      <td>20</td>\n",
       "      <td>9717</td>\n",
       "      <td>5</td>\n",
       "      <td>6</td>\n",
       "      <td>1996</td>\n",
       "      <td>0.0</td>\n",
       "      <td>49</td>\n",
       "      <td>1029</td>\n",
       "      <td>0</td>\n",
       "      <td>1078</td>\n",
       "      <td>...</td>\n",
       "      <td>0</td>\n",
       "      <td>0</td>\n",
       "      <td>0</td>\n",
       "      <td>1</td>\n",
       "      <td>0</td>\n",
       "      <td>0</td>\n",
       "      <td>0</td>\n",
       "      <td>0</td>\n",
       "      <td>1</td>\n",
       "      <td>0</td>\n",
       "    </tr>\n",
       "    <tr>\n",
       "      <th>1459</th>\n",
       "      <td>20</td>\n",
       "      <td>9937</td>\n",
       "      <td>5</td>\n",
       "      <td>6</td>\n",
       "      <td>1965</td>\n",
       "      <td>0.0</td>\n",
       "      <td>830</td>\n",
       "      <td>290</td>\n",
       "      <td>136</td>\n",
       "      <td>1256</td>\n",
       "      <td>...</td>\n",
       "      <td>0</td>\n",
       "      <td>0</td>\n",
       "      <td>0</td>\n",
       "      <td>1</td>\n",
       "      <td>0</td>\n",
       "      <td>0</td>\n",
       "      <td>0</td>\n",
       "      <td>0</td>\n",
       "      <td>1</td>\n",
       "      <td>0</td>\n",
       "    </tr>\n",
       "  </tbody>\n",
       "</table>\n",
       "<p>1460 rows × 285 columns</p>\n",
       "</div>"
      ],
      "text/plain": [
       "      MSSubClass  LotArea  OverallQual  OverallCond  YearRemodAdd  MasVnrArea  \\\n",
       "0             60     8450            7            5          2003       196.0   \n",
       "1             20     9600            6            8          1976         0.0   \n",
       "2             60    11250            7            5          2002       162.0   \n",
       "3             70     9550            7            5          1970         0.0   \n",
       "4             60    14260            8            5          2000       350.0   \n",
       "...          ...      ...          ...          ...           ...         ...   \n",
       "1455          60     7917            6            5          2000         0.0   \n",
       "1456          20    13175            6            6          1988       119.0   \n",
       "1457          70     9042            7            9          2006         0.0   \n",
       "1458          20     9717            5            6          1996         0.0   \n",
       "1459          20     9937            5            6          1965         0.0   \n",
       "\n",
       "      BsmtFinSF1  BsmtFinSF2  BsmtUnfSF  TotalBsmtSF  ...  SaleType_ConLw  \\\n",
       "0            706           0        150          856  ...               0   \n",
       "1            978           0        284         1262  ...               0   \n",
       "2            486           0        434          920  ...               0   \n",
       "3            216           0        540          756  ...               0   \n",
       "4            655           0        490         1145  ...               0   \n",
       "...          ...         ...        ...          ...  ...             ...   \n",
       "1455           0           0        953          953  ...               0   \n",
       "1456         790         163        589         1542  ...               0   \n",
       "1457         275           0        877         1152  ...               0   \n",
       "1458          49        1029          0         1078  ...               0   \n",
       "1459         830         290        136         1256  ...               0   \n",
       "\n",
       "      SaleType_New  SaleType_Oth  SaleType_WD  SaleCondition_Abnorml  \\\n",
       "0                0             0            1                      0   \n",
       "1                0             0            1                      0   \n",
       "2                0             0            1                      0   \n",
       "3                0             0            1                      1   \n",
       "4                0             0            1                      0   \n",
       "...            ...           ...          ...                    ...   \n",
       "1455             0             0            1                      0   \n",
       "1456             0             0            1                      0   \n",
       "1457             0             0            1                      0   \n",
       "1458             0             0            1                      0   \n",
       "1459             0             0            1                      0   \n",
       "\n",
       "      SaleCondition_AdjLand  SaleCondition_Alloca  SaleCondition_Family  \\\n",
       "0                         0                     0                     0   \n",
       "1                         0                     0                     0   \n",
       "2                         0                     0                     0   \n",
       "3                         0                     0                     0   \n",
       "4                         0                     0                     0   \n",
       "...                     ...                   ...                   ...   \n",
       "1455                      0                     0                     0   \n",
       "1456                      0                     0                     0   \n",
       "1457                      0                     0                     0   \n",
       "1458                      0                     0                     0   \n",
       "1459                      0                     0                     0   \n",
       "\n",
       "      SaleCondition_Normal  SaleCondition_Partial  \n",
       "0                        1                      0  \n",
       "1                        1                      0  \n",
       "2                        1                      0  \n",
       "3                        0                      0  \n",
       "4                        1                      0  \n",
       "...                    ...                    ...  \n",
       "1455                     1                      0  \n",
       "1456                     1                      0  \n",
       "1457                     1                      0  \n",
       "1458                     1                      0  \n",
       "1459                     1                      0  \n",
       "\n",
       "[1460 rows x 285 columns]"
      ]
     },
     "execution_count": 11,
     "metadata": {},
     "output_type": "execute_result"
    }
   ],
   "source": [
    "X"
   ]
  },
  {
   "cell_type": "code",
   "execution_count": 12,
   "id": "337bfd87",
   "metadata": {},
   "outputs": [
    {
     "data": {
      "text/plain": [
       "MSSubClass               int64\n",
       "LotArea                  int64\n",
       "OverallQual              int64\n",
       "OverallCond              int64\n",
       "YearRemodAdd             int64\n",
       "                         ...  \n",
       "SaleCondition_AdjLand    int64\n",
       "SaleCondition_Alloca     int64\n",
       "SaleCondition_Family     int64\n",
       "SaleCondition_Normal     int64\n",
       "SaleCondition_Partial    int64\n",
       "Length: 285, dtype: object"
      ]
     },
     "execution_count": 12,
     "metadata": {},
     "output_type": "execute_result"
    }
   ],
   "source": [
    "X.dtypes"
   ]
  },
  {
   "cell_type": "markdown",
   "id": "31d9c05e",
   "metadata": {},
   "source": [
    "### Train/Test Split"
   ]
  },
  {
   "cell_type": "code",
   "execution_count": 13,
   "id": "bb3effeb",
   "metadata": {
    "scrolled": true
   },
   "outputs": [],
   "source": [
    "X_train, X_test, y_train, y_test = train_test_split(X, y, test_size=0.3, random_state=47)"
   ]
  },
  {
   "cell_type": "code",
   "execution_count": 14,
   "id": "0b5a8597",
   "metadata": {},
   "outputs": [
    {
     "data": {
      "text/plain": [
       "((1022, 285), (438, 285))"
      ]
     },
     "execution_count": 14,
     "metadata": {},
     "output_type": "execute_result"
    }
   ],
   "source": [
    "X_train.shape, X_test.shape"
   ]
  },
  {
   "cell_type": "code",
   "execution_count": 15,
   "id": "29f88b93",
   "metadata": {},
   "outputs": [
    {
     "data": {
      "text/plain": [
       "((1022, 1), (438, 1))"
      ]
     },
     "execution_count": 15,
     "metadata": {},
     "output_type": "execute_result"
    }
   ],
   "source": [
    "y_train.shape, y_test.shape"
   ]
  },
  {
   "cell_type": "markdown",
   "id": "a992ae38",
   "metadata": {},
   "source": [
    "## 3.4 Baseline model Using Linear regression<a id='3.4_Baseline_model_Using_Linear_regression'></a>"
   ]
  },
  {
   "cell_type": "code",
   "execution_count": 16,
   "id": "82edeb93",
   "metadata": {},
   "outputs": [],
   "source": [
    "lr = LinearRegression().fit(X_train, y_train)"
   ]
  },
  {
   "cell_type": "code",
   "execution_count": 17,
   "id": "f9096921",
   "metadata": {},
   "outputs": [],
   "source": [
    "y_tr_pred = lr.predict(X_train)\n",
    "y_te_pred = lr.predict(X_test)"
   ]
  },
  {
   "cell_type": "code",
   "execution_count": 18,
   "id": "83600b4b",
   "metadata": {},
   "outputs": [
    {
     "data": {
      "text/plain": [
       "(12674.45994700751, 533477115.53844345)"
      ]
     },
     "execution_count": 18,
     "metadata": {},
     "output_type": "execute_result"
    }
   ],
   "source": [
    "mae_lr = mean_absolute_error(y_train, y_tr_pred),mean_absolute_error(y_test, y_te_pred)\n",
    "mae_lr"
   ]
  },
  {
   "cell_type": "code",
   "execution_count": 19,
   "id": "dc2b56d3",
   "metadata": {},
   "outputs": [
    {
     "data": {
      "text/plain": [
       "3632.0487825436453"
      ]
     },
     "execution_count": 19,
     "metadata": {},
     "output_type": "execute_result"
    }
   ],
   "source": [
    "mape_lr = mean_absolute_percentage_error(y_test, y_te_pred)\n",
    "mape_lr"
   ]
  },
  {
   "cell_type": "code",
   "execution_count": 20,
   "id": "a438f2b9",
   "metadata": {},
   "outputs": [
    {
     "data": {
      "text/html": [
       "<div>\n",
       "<style scoped>\n",
       "    .dataframe tbody tr th:only-of-type {\n",
       "        vertical-align: middle;\n",
       "    }\n",
       "\n",
       "    .dataframe tbody tr th {\n",
       "        vertical-align: top;\n",
       "    }\n",
       "\n",
       "    .dataframe thead th {\n",
       "        text-align: right;\n",
       "    }\n",
       "</style>\n",
       "<table border=\"1\" class=\"dataframe\">\n",
       "  <thead>\n",
       "    <tr style=\"text-align: right;\">\n",
       "      <th></th>\n",
       "      <th>SalePrice</th>\n",
       "    </tr>\n",
       "  </thead>\n",
       "  <tbody>\n",
       "    <tr>\n",
       "      <th>0</th>\n",
       "      <td>240000</td>\n",
       "    </tr>\n",
       "    <tr>\n",
       "      <th>1</th>\n",
       "      <td>185000</td>\n",
       "    </tr>\n",
       "    <tr>\n",
       "      <th>2</th>\n",
       "      <td>168500</td>\n",
       "    </tr>\n",
       "    <tr>\n",
       "      <th>3</th>\n",
       "      <td>430000</td>\n",
       "    </tr>\n",
       "    <tr>\n",
       "      <th>4</th>\n",
       "      <td>127000</td>\n",
       "    </tr>\n",
       "    <tr>\n",
       "      <th>...</th>\n",
       "      <td>...</td>\n",
       "    </tr>\n",
       "    <tr>\n",
       "      <th>433</th>\n",
       "      <td>138500</td>\n",
       "    </tr>\n",
       "    <tr>\n",
       "      <th>434</th>\n",
       "      <td>118400</td>\n",
       "    </tr>\n",
       "    <tr>\n",
       "      <th>435</th>\n",
       "      <td>149000</td>\n",
       "    </tr>\n",
       "    <tr>\n",
       "      <th>436</th>\n",
       "      <td>426000</td>\n",
       "    </tr>\n",
       "    <tr>\n",
       "      <th>437</th>\n",
       "      <td>175000</td>\n",
       "    </tr>\n",
       "  </tbody>\n",
       "</table>\n",
       "<p>438 rows × 1 columns</p>\n",
       "</div>"
      ],
      "text/plain": [
       "     SalePrice\n",
       "0       240000\n",
       "1       185000\n",
       "2       168500\n",
       "3       430000\n",
       "4       127000\n",
       "..         ...\n",
       "433     138500\n",
       "434     118400\n",
       "435     149000\n",
       "436     426000\n",
       "437     175000\n",
       "\n",
       "[438 rows x 1 columns]"
      ]
     },
     "execution_count": 20,
     "metadata": {},
     "output_type": "execute_result"
    }
   ],
   "source": [
    "y_test = y_test.reset_index(drop=True) # reset index\n",
    "y_test"
   ]
  },
  {
   "cell_type": "code",
   "execution_count": 21,
   "id": "fd9085da",
   "metadata": {},
   "outputs": [],
   "source": [
    "# convert to dadaframe\n",
    "y_te_pred=pd.DataFrame(y_te_pred)"
   ]
  },
  {
   "cell_type": "markdown",
   "id": "e13f7211",
   "metadata": {},
   "source": [
    "[<a href=\"#3.Modeling\">Back to top</a>]"
   ]
  },
  {
   "cell_type": "code",
   "execution_count": 22,
   "id": "8c9eb6d0",
   "metadata": {},
   "outputs": [
    {
     "data": {
      "text/html": [
       "<div>\n",
       "<style scoped>\n",
       "    .dataframe tbody tr th:only-of-type {\n",
       "        vertical-align: middle;\n",
       "    }\n",
       "\n",
       "    .dataframe tbody tr th {\n",
       "        vertical-align: top;\n",
       "    }\n",
       "\n",
       "    .dataframe thead th {\n",
       "        text-align: right;\n",
       "    }\n",
       "</style>\n",
       "<table border=\"1\" class=\"dataframe\">\n",
       "  <thead>\n",
       "    <tr style=\"text-align: right;\">\n",
       "      <th></th>\n",
       "      <th>0</th>\n",
       "    </tr>\n",
       "  </thead>\n",
       "  <tbody>\n",
       "    <tr>\n",
       "      <th>0</th>\n",
       "      <td>238702.127533</td>\n",
       "    </tr>\n",
       "    <tr>\n",
       "      <th>1</th>\n",
       "      <td>196363.375916</td>\n",
       "    </tr>\n",
       "    <tr>\n",
       "      <th>2</th>\n",
       "      <td>279261.400177</td>\n",
       "    </tr>\n",
       "    <tr>\n",
       "      <th>3</th>\n",
       "      <td>394181.908691</td>\n",
       "    </tr>\n",
       "    <tr>\n",
       "      <th>4</th>\n",
       "      <td>132319.249634</td>\n",
       "    </tr>\n",
       "    <tr>\n",
       "      <th>...</th>\n",
       "      <td>...</td>\n",
       "    </tr>\n",
       "    <tr>\n",
       "      <th>433</th>\n",
       "      <td>132185.477661</td>\n",
       "    </tr>\n",
       "    <tr>\n",
       "      <th>434</th>\n",
       "      <td>126016.158295</td>\n",
       "    </tr>\n",
       "    <tr>\n",
       "      <th>435</th>\n",
       "      <td>133603.719040</td>\n",
       "    </tr>\n",
       "    <tr>\n",
       "      <th>436</th>\n",
       "      <td>402138.758575</td>\n",
       "    </tr>\n",
       "    <tr>\n",
       "      <th>437</th>\n",
       "      <td>174021.413223</td>\n",
       "    </tr>\n",
       "  </tbody>\n",
       "</table>\n",
       "<p>438 rows × 1 columns</p>\n",
       "</div>"
      ],
      "text/plain": [
       "                 0\n",
       "0    238702.127533\n",
       "1    196363.375916\n",
       "2    279261.400177\n",
       "3    394181.908691\n",
       "4    132319.249634\n",
       "..             ...\n",
       "433  132185.477661\n",
       "434  126016.158295\n",
       "435  133603.719040\n",
       "436  402138.758575\n",
       "437  174021.413223\n",
       "\n",
       "[438 rows x 1 columns]"
      ]
     },
     "execution_count": 22,
     "metadata": {},
     "output_type": "execute_result"
    }
   ],
   "source": [
    "y_te_pred"
   ]
  },
  {
   "cell_type": "code",
   "execution_count": 23,
   "id": "c5f39a39",
   "metadata": {},
   "outputs": [],
   "source": [
    "# merege y_test and y_te_pre to  perform evaluation\n",
    "\n",
    "test_data = pd.merge(y_test, y_te_pred, left_index=True, right_index=True)\n",
    "test_data .columns = ['Actual', 'Predicted']\n"
   ]
  },
  {
   "cell_type": "code",
   "execution_count": 24,
   "id": "68e3c8fb",
   "metadata": {},
   "outputs": [],
   "source": [
    "test_data['Predicted'] = test_data['Predicted'].astype(int)"
   ]
  },
  {
   "cell_type": "code",
   "execution_count": 25,
   "id": "d1b956ce",
   "metadata": {},
   "outputs": [],
   "source": [
    "test_data['AbsoluteError'] = np.abs(test_data['Actual'] - test_data['Predicted']) # PE = absolute(Actual - Predicted)"
   ]
  },
  {
   "cell_type": "code",
   "execution_count": 26,
   "id": "483d0ade",
   "metadata": {},
   "outputs": [],
   "source": [
    "test_data['PercentageError'] = (test_data['AbsoluteError'] / test_data['Actual']) * 100 # PercentageError"
   ]
  },
  {
   "cell_type": "code",
   "execution_count": 27,
   "id": "9b133514",
   "metadata": {},
   "outputs": [],
   "source": [
    "Residuals = [predicted - actual for predicted, actual in zip(test_data['Predicted'], test_data['Actual'])]\n",
    "Residuals=pd.DataFrame(Residuals)\n",
    "\n",
    "test_data['Residuals'] = Residuals"
   ]
  },
  {
   "cell_type": "code",
   "execution_count": 28,
   "id": "de700aae",
   "metadata": {},
   "outputs": [
    {
     "data": {
      "text/html": [
       "<div>\n",
       "<style scoped>\n",
       "    .dataframe tbody tr th:only-of-type {\n",
       "        vertical-align: middle;\n",
       "    }\n",
       "\n",
       "    .dataframe tbody tr th {\n",
       "        vertical-align: top;\n",
       "    }\n",
       "\n",
       "    .dataframe thead th {\n",
       "        text-align: right;\n",
       "    }\n",
       "</style>\n",
       "<table border=\"1\" class=\"dataframe\">\n",
       "  <thead>\n",
       "    <tr style=\"text-align: right;\">\n",
       "      <th></th>\n",
       "      <th>Actual</th>\n",
       "      <th>Predicted</th>\n",
       "      <th>AbsoluteError</th>\n",
       "      <th>PercentageError</th>\n",
       "      <th>Residuals</th>\n",
       "    </tr>\n",
       "  </thead>\n",
       "  <tbody>\n",
       "    <tr>\n",
       "      <th>0</th>\n",
       "      <td>240000</td>\n",
       "      <td>238702</td>\n",
       "      <td>1298</td>\n",
       "      <td>0.540833</td>\n",
       "      <td>-1298</td>\n",
       "    </tr>\n",
       "    <tr>\n",
       "      <th>1</th>\n",
       "      <td>185000</td>\n",
       "      <td>196363</td>\n",
       "      <td>11363</td>\n",
       "      <td>6.142162</td>\n",
       "      <td>11363</td>\n",
       "    </tr>\n",
       "    <tr>\n",
       "      <th>2</th>\n",
       "      <td>168500</td>\n",
       "      <td>279261</td>\n",
       "      <td>110761</td>\n",
       "      <td>65.733531</td>\n",
       "      <td>110761</td>\n",
       "    </tr>\n",
       "    <tr>\n",
       "      <th>3</th>\n",
       "      <td>430000</td>\n",
       "      <td>394181</td>\n",
       "      <td>35819</td>\n",
       "      <td>8.330000</td>\n",
       "      <td>-35819</td>\n",
       "    </tr>\n",
       "    <tr>\n",
       "      <th>4</th>\n",
       "      <td>127000</td>\n",
       "      <td>132319</td>\n",
       "      <td>5319</td>\n",
       "      <td>4.188189</td>\n",
       "      <td>5319</td>\n",
       "    </tr>\n",
       "    <tr>\n",
       "      <th>...</th>\n",
       "      <td>...</td>\n",
       "      <td>...</td>\n",
       "      <td>...</td>\n",
       "      <td>...</td>\n",
       "      <td>...</td>\n",
       "    </tr>\n",
       "    <tr>\n",
       "      <th>433</th>\n",
       "      <td>138500</td>\n",
       "      <td>132185</td>\n",
       "      <td>6315</td>\n",
       "      <td>4.559567</td>\n",
       "      <td>-6315</td>\n",
       "    </tr>\n",
       "    <tr>\n",
       "      <th>434</th>\n",
       "      <td>118400</td>\n",
       "      <td>126016</td>\n",
       "      <td>7616</td>\n",
       "      <td>6.432432</td>\n",
       "      <td>7616</td>\n",
       "    </tr>\n",
       "    <tr>\n",
       "      <th>435</th>\n",
       "      <td>149000</td>\n",
       "      <td>133603</td>\n",
       "      <td>15397</td>\n",
       "      <td>10.333557</td>\n",
       "      <td>-15397</td>\n",
       "    </tr>\n",
       "    <tr>\n",
       "      <th>436</th>\n",
       "      <td>426000</td>\n",
       "      <td>402138</td>\n",
       "      <td>23862</td>\n",
       "      <td>5.601408</td>\n",
       "      <td>-23862</td>\n",
       "    </tr>\n",
       "    <tr>\n",
       "      <th>437</th>\n",
       "      <td>175000</td>\n",
       "      <td>174021</td>\n",
       "      <td>979</td>\n",
       "      <td>0.559429</td>\n",
       "      <td>-979</td>\n",
       "    </tr>\n",
       "  </tbody>\n",
       "</table>\n",
       "<p>438 rows × 5 columns</p>\n",
       "</div>"
      ],
      "text/plain": [
       "     Actual  Predicted  AbsoluteError  PercentageError  Residuals\n",
       "0    240000     238702           1298         0.540833      -1298\n",
       "1    185000     196363          11363         6.142162      11363\n",
       "2    168500     279261         110761        65.733531     110761\n",
       "3    430000     394181          35819         8.330000     -35819\n",
       "4    127000     132319           5319         4.188189       5319\n",
       "..      ...        ...            ...              ...        ...\n",
       "433  138500     132185           6315         4.559567      -6315\n",
       "434  118400     126016           7616         6.432432       7616\n",
       "435  149000     133603          15397        10.333557     -15397\n",
       "436  426000     402138          23862         5.601408     -23862\n",
       "437  175000     174021            979         0.559429       -979\n",
       "\n",
       "[438 rows x 5 columns]"
      ]
     },
     "execution_count": 28,
     "metadata": {},
     "output_type": "execute_result"
    }
   ],
   "source": [
    "test_data"
   ]
  },
  {
   "cell_type": "markdown",
   "id": "96bdf94d",
   "metadata": {},
   "source": [
    "<font color=blue>__Plotting Cross-Validated Predictions__"
   ]
  },
  {
   "cell_type": "code",
   "execution_count": 29,
   "id": "f341187b",
   "metadata": {},
   "outputs": [
    {
     "data": {
      "image/png": "[encoded data removed]",
      "text/plain": [
       "<Figure size 1000x400 with 2 Axes>"
      ]
     },
     "metadata": {},
     "output_type": "display_data"
    }
   ],
   "source": [
    "fig, axs = plt.subplots(ncols=2, figsize=(10, 4))\n",
    "\n",
    "sns.scatterplot(data=test_data,x='Actual', y='Predicted', ax=axs[0])\n",
    "\n",
    "axs[0].plot(test_data['Actual'], test_data['Actual'], 'r:', linewidth=1) # reference line (x = y)\n",
    "\n",
    "axs[0].set_ylabel('Actual Values')\n",
    "axs[0].set_xlabel('Predicted Values')\n",
    "axs[0].set_title('Actual vs. Predicted valuesd')\n",
    "\n",
    "\n",
    "\n",
    "# Subplot 2: Predicted with  Error\n",
    "sns.scatterplot(data=test_data, x='Predicted', y='Residuals', ax=axs[1])\n",
    "axs[1].axhline(y=0, color='r', linestyle='--') #Residuals line (y=0)\n",
    "axs[1].set_xlabel('Predicted Values')\n",
    "axs[1].set_ylabel('Residuals (actual-predicted)')\n",
    "axs[1].set_title('Residuals vs. Predicted Values')\n",
    "\n",
    "fig.suptitle(\"Plotting cross-validated predictions\")\n",
    "plt.tight_layout()\n",
    "plt.show()"
   ]
  },
  {
   "cell_type": "markdown",
   "id": "a9865f64",
   "metadata": {},
   "source": [
    "[<a href=\"#3.Modeling\">Back to top</a>]"
   ]
  },
  {
   "cell_type": "markdown",
   "id": "3cdd5829",
   "metadata": {},
   "source": [
    "<font color=blue>__Histograms showing distribution of residuals with the test set__\n"
   ]
  },
  {
   "cell_type": "code",
   "execution_count": 30,
   "id": "5fdc377a",
   "metadata": {},
   "outputs": [
    {
     "data": {
      "image/png": "[encoded data removed]",
      "text/plain": [
       "<Figure size 640x480 with 1 Axes>"
      ]
     },
     "metadata": {},
     "output_type": "display_data"
    }
   ],
   "source": [
    "# Calculate residuals\n",
    "residuals = [predicted - actual for predicted, actual in zip(test_data['Predicted'], test_data['Actual'])]\n",
    "\n",
    "# Create histogram\n",
    "plt.hist(residuals)  # Adjust the number of bins as per your preference\n",
    "plt.xlabel('Residual')\n",
    "plt.ylabel('Frequency')\n",
    "plt.title('Histogram of Residuals')\n",
    "plt.show()\n"
   ]
  },
  {
   "cell_type": "markdown",
   "id": "08028258",
   "metadata": {},
   "source": [
    "## 3.5 KNN regression<a id='3.5_KNN_regression'></a>    \n",
    "\n",
    "\n"
   ]
  },
  {
   "cell_type": "code",
   "execution_count": 31,
   "id": "7b6678df",
   "metadata": {},
   "outputs": [
    {
     "data": {
      "text/html": [
       "<style>#sk-container-id-1 {color: black;background-color: white;}#sk-container-id-1 pre{padding: 0;}#sk-container-id-1 div.sk-toggleable {background-color: white;}#sk-container-id-1 label.sk-toggleable__label {cursor: pointer;display: block;width: 100%;margin-bottom: 0;padding: 0.3em;box-sizing: border-box;text-align: center;}#sk-container-id-1 label.sk-toggleable__label-arrow:before {content: \"▸\";float: left;margin-right: 0.25em;color: #696969;}#sk-container-id-1 label.sk-toggleable__label-arrow:hover:before {color: black;}#sk-container-id-1 div.sk-estimator:hover label.sk-toggleable__label-arrow:before {color: black;}#sk-container-id-1 div.sk-toggleable__content {max-height: 0;max-width: 0;overflow: hidden;text-align: left;background-color: #f0f8ff;}#sk-container-id-1 div.sk-toggleable__content pre {margin: 0.2em;color: black;border-radius: 0.25em;background-color: #f0f8ff;}#sk-container-id-1 input.sk-toggleable__control:checked~div.sk-toggleable__content {max-height: 200px;max-width: 100%;overflow: auto;}#sk-container-id-1 input.sk-toggleable__control:checked~label.sk-toggleable__label-arrow:before {content: \"▾\";}#sk-container-id-1 div.sk-estimator input.sk-toggleable__control:checked~label.sk-toggleable__label {background-color: #d4ebff;}#sk-container-id-1 div.sk-label input.sk-toggleable__control:checked~label.sk-toggleable__label {background-color: #d4ebff;}#sk-container-id-1 input.sk-hidden--visually {border: 0;clip: rect(1px 1px 1px 1px);clip: rect(1px, 1px, 1px, 1px);height: 1px;margin: -1px;overflow: hidden;padding: 0;position: absolute;width: 1px;}#sk-container-id-1 div.sk-estimator {font-family: monospace;background-color: #f0f8ff;border: 1px dotted black;border-radius: 0.25em;box-sizing: border-box;margin-bottom: 0.5em;}#sk-container-id-1 div.sk-estimator:hover {background-color: #d4ebff;}#sk-container-id-1 div.sk-parallel-item::after {content: \"\";width: 100%;border-bottom: 1px solid gray;flex-grow: 1;}#sk-container-id-1 div.sk-label:hover label.sk-toggleable__label {background-color: #d4ebff;}#sk-container-id-1 div.sk-serial::before {content: \"\";position: absolute;border-left: 1px solid gray;box-sizing: border-box;top: 0;bottom: 0;left: 50%;z-index: 0;}#sk-container-id-1 div.sk-serial {display: flex;flex-direction: column;align-items: center;background-color: white;padding-right: 0.2em;padding-left: 0.2em;position: relative;}#sk-container-id-1 div.sk-item {position: relative;z-index: 1;}#sk-container-id-1 div.sk-parallel {display: flex;align-items: stretch;justify-content: center;background-color: white;position: relative;}#sk-container-id-1 div.sk-item::before, #sk-container-id-1 div.sk-parallel-item::before {content: \"\";position: absolute;border-left: 1px solid gray;box-sizing: border-box;top: 0;bottom: 0;left: 50%;z-index: -1;}#sk-container-id-1 div.sk-parallel-item {display: flex;flex-direction: column;z-index: 1;position: relative;background-color: white;}#sk-container-id-1 div.sk-parallel-item:first-child::after {align-self: flex-end;width: 50%;}#sk-container-id-1 div.sk-parallel-item:last-child::after {align-self: flex-start;width: 50%;}#sk-container-id-1 div.sk-parallel-item:only-child::after {width: 0;}#sk-container-id-1 div.sk-dashed-wrapped {border: 1px dashed gray;margin: 0 0.4em 0.5em 0.4em;box-sizing: border-box;padding-bottom: 0.4em;background-color: white;}#sk-container-id-1 div.sk-label label {font-family: monospace;font-weight: bold;display: inline-block;line-height: 1.2em;}#sk-container-id-1 div.sk-label-container {text-align: center;}#sk-container-id-1 div.sk-container {/* jupyter's `normalize.less` sets `[hidden] { display: none; }` but bootstrap.min.css set `[hidden] { display: none !important; }` so we also need the `!important` here to be able to override the default hidden behavior on the sphinx rendered scikit-learn.org. See: https://github.com/scikit-learn/scikit-learn/issues/21755 */display: inline-block !important;position: relative;}#sk-container-id-1 div.sk-text-repr-fallback {display: none;}</style><div id=\"sk-container-id-1\" class=\"sk-top-container\"><div class=\"sk-text-repr-fallback\"><pre>KNeighborsRegressor()</pre><b>In a Jupyter environment, please rerun this cell to show the HTML representation or trust the notebook. <br />On GitHub, the HTML representation is unable to render, please try loading this page with nbviewer.org.</b></div><div class=\"sk-container\" hidden><div class=\"sk-item\"><div class=\"sk-estimator sk-toggleable\"><input class=\"sk-toggleable__control sk-hidden--visually\" id=\"sk-estimator-id-1\" type=\"checkbox\" checked><label for=\"sk-estimator-id-1\" class=\"sk-toggleable__label sk-toggleable__label-arrow\">KNeighborsRegressor</label><div class=\"sk-toggleable__content\"><pre>KNeighborsRegressor()</pre></div></div></div></div></div>"
      ],
      "text/plain": [
       "KNeighborsRegressor()"
      ]
     },
     "execution_count": 31,
     "metadata": {},
     "output_type": "execute_result"
    }
   ],
   "source": [
    "knn_regressor = KNeighborsRegressor(n_neighbors=5)\n",
    "\n",
    "# Fit the model to the SAME training data\n",
    "knn_regressor.fit(X_train, y_train)\n",
    "\n"
   ]
  },
  {
   "cell_type": "code",
   "execution_count": 32,
   "id": "7bc17e51",
   "metadata": {},
   "outputs": [],
   "source": [
    "# Make predictions on the train and test data\n",
    "y_tr_pred_knn = knn_regressor.predict(X_train)\n",
    "y_te_pred_knn = knn_regressor.predict(X_test)"
   ]
  },
  {
   "cell_type": "code",
   "execution_count": 33,
   "id": "af7b0a3e",
   "metadata": {},
   "outputs": [
    {
     "data": {
      "text/plain": [
       "(23920.061448140896, 31235.99589041096)"
      ]
     },
     "execution_count": 33,
     "metadata": {},
     "output_type": "execute_result"
    }
   ],
   "source": [
    "mae_knn = mean_absolute_error(y_train, y_tr_pred_knn ),mean_absolute_error(y_test,y_te_pred_knn)\n",
    "mae_knn"
   ]
  },
  {
   "cell_type": "code",
   "execution_count": 34,
   "id": "f0e17fb6",
   "metadata": {},
   "outputs": [
    {
     "data": {
      "text/plain": [
       "0.17969779621675094"
      ]
     },
     "execution_count": 34,
     "metadata": {},
     "output_type": "execute_result"
    }
   ],
   "source": [
    "# Calculate MAPE\n",
    "mape_knn = mean_absolute_percentage_error(y_test, y_te_pred_knn)\n",
    "mape_knn"
   ]
  },
  {
   "cell_type": "code",
   "execution_count": 35,
   "id": "57e77f65",
   "metadata": {},
   "outputs": [],
   "source": [
    "y_te_pred_knn=pd.DataFrame(y_te_pred_knn)"
   ]
  },
  {
   "cell_type": "code",
   "execution_count": 36,
   "id": "3f948a6d",
   "metadata": {},
   "outputs": [],
   "source": [
    "test_data2 = pd.merge(y_test, y_te_pred_knn, left_index=True, right_index=True)\n",
    "test_data2 .columns = ['Actual', 'Predicted']"
   ]
  },
  {
   "cell_type": "code",
   "execution_count": 37,
   "id": "cc98c18e",
   "metadata": {},
   "outputs": [],
   "source": [
    "test_data2['AbsoluteError'] = np.abs(test_data2['Actual'] - test_data2['Predicted']) # PE = absolute(Actual - Predicted)"
   ]
  },
  {
   "cell_type": "code",
   "execution_count": 38,
   "id": "09c1d8e2",
   "metadata": {},
   "outputs": [],
   "source": [
    "test_data2['PercentageError'] = (test_data2['AbsoluteError'] / test_data2['Actual']) * 100 # PercentageError"
   ]
  },
  {
   "cell_type": "code",
   "execution_count": 39,
   "id": "b2fa8e43",
   "metadata": {},
   "outputs": [],
   "source": [
    "test_data2['PercentageError'] = test_data2['PercentageError'].round(2)"
   ]
  },
  {
   "cell_type": "code",
   "execution_count": 40,
   "id": "dbf96a1c",
   "metadata": {},
   "outputs": [],
   "source": [
    "Residuals2 = [predicted - actual   for predicted, actual in zip(test_data2['Predicted'], test_data2['Actual'])]\n",
    "Residuals2=pd.DataFrame(Residuals2)\n",
    "\n",
    "test_data2['Residuals2'] = Residuals2"
   ]
  },
  {
   "cell_type": "code",
   "execution_count": 41,
   "id": "12970687",
   "metadata": {},
   "outputs": [
    {
     "data": {
      "text/html": [
       "<div>\n",
       "<style scoped>\n",
       "    .dataframe tbody tr th:only-of-type {\n",
       "        vertical-align: middle;\n",
       "    }\n",
       "\n",
       "    .dataframe tbody tr th {\n",
       "        vertical-align: top;\n",
       "    }\n",
       "\n",
       "    .dataframe thead th {\n",
       "        text-align: right;\n",
       "    }\n",
       "</style>\n",
       "<table border=\"1\" class=\"dataframe\">\n",
       "  <thead>\n",
       "    <tr style=\"text-align: right;\">\n",
       "      <th></th>\n",
       "      <th>Actual</th>\n",
       "      <th>Predicted</th>\n",
       "      <th>AbsoluteError</th>\n",
       "      <th>PercentageError</th>\n",
       "      <th>Residuals2</th>\n",
       "    </tr>\n",
       "  </thead>\n",
       "  <tbody>\n",
       "    <tr>\n",
       "      <th>0</th>\n",
       "      <td>240000</td>\n",
       "      <td>314752.2</td>\n",
       "      <td>74752.2</td>\n",
       "      <td>31.15</td>\n",
       "      <td>74752.2</td>\n",
       "    </tr>\n",
       "    <tr>\n",
       "      <th>1</th>\n",
       "      <td>185000</td>\n",
       "      <td>147640.0</td>\n",
       "      <td>37360.0</td>\n",
       "      <td>20.19</td>\n",
       "      <td>-37360.0</td>\n",
       "    </tr>\n",
       "    <tr>\n",
       "      <th>2</th>\n",
       "      <td>168500</td>\n",
       "      <td>171480.0</td>\n",
       "      <td>2980.0</td>\n",
       "      <td>1.77</td>\n",
       "      <td>2980.0</td>\n",
       "    </tr>\n",
       "    <tr>\n",
       "      <th>3</th>\n",
       "      <td>430000</td>\n",
       "      <td>372908.6</td>\n",
       "      <td>57091.4</td>\n",
       "      <td>13.28</td>\n",
       "      <td>-57091.4</td>\n",
       "    </tr>\n",
       "    <tr>\n",
       "      <th>4</th>\n",
       "      <td>127000</td>\n",
       "      <td>155500.0</td>\n",
       "      <td>28500.0</td>\n",
       "      <td>22.44</td>\n",
       "      <td>28500.0</td>\n",
       "    </tr>\n",
       "    <tr>\n",
       "      <th>...</th>\n",
       "      <td>...</td>\n",
       "      <td>...</td>\n",
       "      <td>...</td>\n",
       "      <td>...</td>\n",
       "      <td>...</td>\n",
       "    </tr>\n",
       "    <tr>\n",
       "      <th>433</th>\n",
       "      <td>138500</td>\n",
       "      <td>136400.0</td>\n",
       "      <td>2100.0</td>\n",
       "      <td>1.52</td>\n",
       "      <td>-2100.0</td>\n",
       "    </tr>\n",
       "    <tr>\n",
       "      <th>434</th>\n",
       "      <td>118400</td>\n",
       "      <td>122400.0</td>\n",
       "      <td>4000.0</td>\n",
       "      <td>3.38</td>\n",
       "      <td>4000.0</td>\n",
       "    </tr>\n",
       "    <tr>\n",
       "      <th>435</th>\n",
       "      <td>149000</td>\n",
       "      <td>139440.0</td>\n",
       "      <td>9560.0</td>\n",
       "      <td>6.42</td>\n",
       "      <td>-9560.0</td>\n",
       "    </tr>\n",
       "    <tr>\n",
       "      <th>436</th>\n",
       "      <td>426000</td>\n",
       "      <td>289713.2</td>\n",
       "      <td>136286.8</td>\n",
       "      <td>31.99</td>\n",
       "      <td>-136286.8</td>\n",
       "    </tr>\n",
       "    <tr>\n",
       "      <th>437</th>\n",
       "      <td>175000</td>\n",
       "      <td>190284.4</td>\n",
       "      <td>15284.4</td>\n",
       "      <td>8.73</td>\n",
       "      <td>15284.4</td>\n",
       "    </tr>\n",
       "  </tbody>\n",
       "</table>\n",
       "<p>438 rows × 5 columns</p>\n",
       "</div>"
      ],
      "text/plain": [
       "     Actual  Predicted  AbsoluteError  PercentageError  Residuals2\n",
       "0    240000   314752.2        74752.2            31.15     74752.2\n",
       "1    185000   147640.0        37360.0            20.19    -37360.0\n",
       "2    168500   171480.0         2980.0             1.77      2980.0\n",
       "3    430000   372908.6        57091.4            13.28    -57091.4\n",
       "4    127000   155500.0        28500.0            22.44     28500.0\n",
       "..      ...        ...            ...              ...         ...\n",
       "433  138500   136400.0         2100.0             1.52     -2100.0\n",
       "434  118400   122400.0         4000.0             3.38      4000.0\n",
       "435  149000   139440.0         9560.0             6.42     -9560.0\n",
       "436  426000   289713.2       136286.8            31.99   -136286.8\n",
       "437  175000   190284.4        15284.4             8.73     15284.4\n",
       "\n",
       "[438 rows x 5 columns]"
      ]
     },
     "execution_count": 41,
     "metadata": {},
     "output_type": "execute_result"
    }
   ],
   "source": [
    "test_data2"
   ]
  },
  {
   "cell_type": "code",
   "execution_count": 42,
   "id": "9942fc8d",
   "metadata": {},
   "outputs": [
    {
     "data": {
      "image/png": "[encoded data removed]",
      "text/plain": [
       "<Figure size 1100x400 with 2 Axes>"
      ]
     },
     "metadata": {},
     "output_type": "display_data"
    }
   ],
   "source": [
    "fig, axs = plt.subplots(ncols=2, figsize=(11, 4))\n",
    "\n",
    "sns.scatterplot(data=test_data2,x='Actual', y='Predicted', ax=axs[0])\n",
    "axs[0].plot(test_data2['Actual'], test_data2['Actual'], 'r:', linewidth=1)  # Dotted line at Actual values\n",
    "axs[0].set_ylabel('Actual Values')\n",
    "axs[0].set_xlabel('Predicted Values')\n",
    "axs[0].set_title('Actual vs. Predicted valuesd')\n",
    "\n",
    "\n",
    "\n",
    "sns.scatterplot(data=test_data2, x='Predicted', y='Residuals2', ax=axs[1])\n",
    "axs[1].axhline(y=0, color='r', linestyle='--')\n",
    "axs[1].set_xlabel('Predicted Values')\n",
    "axs[1].set_ylabel('Residuals (actual-predicted)')\n",
    "axs[1].set_title('Residuals vs. Predicted Values')\n",
    "\n",
    "\n",
    "fig.suptitle(\"Plotting cross-validated predictions\")\n",
    "plt.tight_layout()\n",
    "plt.show()"
   ]
  },
  {
   "cell_type": "markdown",
   "id": "375d39e1",
   "metadata": {},
   "source": [
    "[<a href=\"#3.Modeling\">Back to top</a>]"
   ]
  },
  {
   "cell_type": "code",
   "execution_count": 43,
   "id": "0d381d59",
   "metadata": {},
   "outputs": [
    {
     "data": {
      "image/png": "[encoded data removed]",
      "text/plain": [
       "<Figure size 640x480 with 1 Axes>"
      ]
     },
     "metadata": {},
     "output_type": "display_data"
    }
   ],
   "source": [
    "# Calculate residuals\n",
    "residuals = [predicted - actual for predicted, actual in zip(test_data2['Predicted'], test_data2['Actual'])]\n",
    "\n",
    "# Create histogram\n",
    "plt.hist(residuals)  # Adjust the number of bins as per your preference\n",
    "plt.xlabel('Residual')\n",
    "plt.ylabel('Frequency')\n",
    "plt.title('Histogram of Residuals')\n",
    "plt.show()"
   ]
  },
  {
   "cell_type": "markdown",
   "id": "90bf5684",
   "metadata": {},
   "source": [
    "## 3.6 MAPE from both the models for the test set<a id='3.6_MAPE_from_both_the_models_for_the_test_set'></a>"
   ]
  },
  {
   "cell_type": "code",
   "execution_count": 44,
   "id": "6ffcc870",
   "metadata": {},
   "outputs": [
    {
     "name": "stdout",
     "output_type": "stream",
     "text": [
      "The mean absolute percentage error with Linear Regression is: 3632.0487825436453 \n",
      "The mean absolute error with KNN regression is: 0.17969779621675094\n"
     ]
    }
   ],
   "source": [
    "print('The mean absolute percentage error with Linear Regression is:', mape_lr, '\\nThe mean absolute error with KNN regression is:', mape_knn)"
   ]
  },
  {
   "cell_type": "markdown",
   "id": "81d32a83",
   "metadata": {},
   "source": [
    "[<a href=\"#3.Modeling\">Back to top</a>]"
   ]
  },
  {
   "cell_type": "markdown",
   "id": "c632bdad",
   "metadata": {},
   "source": [
    "## 3.7 Upper/Lower bound of the errors of residuals<a id='3.7_Upper/Lower_bound_of_the_errors_of_residualse'></a>"
   ]
  },
  {
   "cell_type": "markdown",
   "id": "9b76d1db",
   "metadata": {},
   "source": [
    "<font color=blue>__with Liner Regression:__"
   ]
  },
  {
   "cell_type": "code",
   "execution_count": 45,
   "id": "88aa43f1",
   "metadata": {},
   "outputs": [
    {
     "name": "stdout",
     "output_type": "stream",
     "text": [
      "Upper Bound: -7848330.29\n",
      "Lower Bound: -71577288.53\n"
     ]
    }
   ],
   "source": [
    "#upper/lower bound of the errors for about 95% of the residuals \n",
    "\n",
    "residuals_lr = test_data['Predicted'] -  test_data['Actual']\n",
    "\n",
    "residuals_std = np.std(residuals_lr)\n",
    "\n",
    "n = len(residuals_lr)\n",
    "\n",
    "se = residuals_std / np.sqrt(n)\n",
    "\n",
    "critical_value = 1.96 # Approximate value for a two-tailed test\n",
    "\n",
    "margin_of_error = critical_value * se\n",
    "\n",
    "upper_bound = np.mean(residuals_lr) + margin_of_error\n",
    "lower_bound = np.mean(residuals_lr) - margin_of_error\n",
    "print(\"Upper Bound: {:.2f}\".format(upper_bound))\n",
    "print(\"Lower Bound: {:.2f}\".format(lower_bound))"
   ]
  },
  {
   "cell_type": "markdown",
   "id": "6e82db11",
   "metadata": {},
   "source": [
    "<font color=blue>__with KNN Regression :__"
   ]
  },
  {
   "cell_type": "code",
   "execution_count": 46,
   "id": "87fb23f0",
   "metadata": {},
   "outputs": [
    {
     "name": "stdout",
     "output_type": "stream",
     "text": [
      "Upper Bound: 3755.13\n",
      "Lower Bound: -5105.56\n"
     ]
    }
   ],
   "source": [
    "residuals_knn = test_data2['Predicted'] - test_data2['Actual']\n",
    "residuals_std = np.std(residuals_knn)\n",
    "n = len(residuals_knn)\n",
    "se = residuals_std / np.sqrt(n)\n",
    "critical_value = 1.96  # Approximate value for a two-tailed test\n",
    "margin_of_error = critical_value * se\n",
    "upper_bound = np.mean(residuals_knn) + margin_of_error\n",
    "lower_bound = np.mean(residuals_knn) - margin_of_error\n",
    "\n",
    "print(\"Upper Bound: {:.2f}\".format(upper_bound))\n",
    "print(\"Lower Bound: {:.2f}\".format(lower_bound))"
   ]
  },
  {
   "cell_type": "markdown",
   "id": "49e896c2",
   "metadata": {},
   "source": [
    "<font color=blue>__Histograms of residuals for both models__ "
   ]
  },
  {
   "cell_type": "markdown",
   "id": "b927efcb",
   "metadata": {},
   "source": [
    "[<a href=\"#3.Modeling\">Back to top</a>]"
   ]
  },
  {
   "cell_type": "code",
   "execution_count": 47,
   "id": "cd5bcc62",
   "metadata": {},
   "outputs": [],
   "source": [
    "residuals_lr = [predicted - actual for predicted, actual in zip(test_data['Predicted'], test_data['Actual'])]\n",
    "residuals_knn = [predicted - actual for predicted, actual in zip(test_data2['Predicted'], test_data2['Actual'])]"
   ]
  },
  {
   "cell_type": "code",
   "execution_count": 48,
   "id": "f8754fe0",
   "metadata": {},
   "outputs": [
    {
     "data": {
      "image/png": "[encoded data removed]",
      "text/plain": [
       "<Figure size 640x480 with 1 Axes>"
      ]
     },
     "metadata": {},
     "output_type": "display_data"
    }
   ],
   "source": [
    "plt.hist([residuals_lr, residuals_knn], bins=3, label=['Linear regression', 'Knn regression'], color=['blue', 'orange'], alpha=0.7)\n",
    "\n",
    "# Set plot labels and title\n",
    "plt.xlabel('Residual')\n",
    "plt.ylabel('Frequency')\n",
    "plt.title('Histogram of Residuals')\n",
    "plt.legend()\n",
    "\n",
    "# Show the plot\n",
    "plt.show()"
   ]
  },
  {
   "cell_type": "code",
   "execution_count": 49,
   "id": "f58d1f3b",
   "metadata": {},
   "outputs": [
    {
     "data": {
      "image/png": "[encoded data removed]",
      "text/plain": [
       "<Figure size 640x480 with 1 Axes>"
      ]
     },
     "metadata": {},
     "output_type": "display_data"
    }
   ],
   "source": [
    "df = pd.DataFrame({'Residual': residuals_lr + residuals_knn, 'Model': ['Linear regression'] * len(residuals_lr) + ['Knn regression'] * len(residuals_knn)})\n",
    "\n",
    "# Plot histogram with hue\n",
    "sns.histplot(data=df, x='Residual', hue='Model',element=\"step\",bins=5, palette=['red', 'lightgreen'])\n",
    "\n",
    "# Set plot labels and title\n",
    "plt.xlabel('Residual')\n",
    "plt.ylabel('Frequency')\n",
    "plt.title('Histogram of Residuals')\n",
    "\n",
    "# Show the plot\n",
    "plt.show()"
   ]
  },
  {
   "cell_type": "markdown",
   "id": "0b746e12",
   "metadata": {},
   "source": [
    "[<a href=\"#3.Modeling\">Back to top</a>]"
   ]
  },
  {
   "cell_type": "markdown",
   "id": "d318ba73",
   "metadata": {},
   "source": [
    "## 3.8 Scale the Data<a id='3.8_Scale_the_Data'></a>"
   ]
  },
  {
   "cell_type": "markdown",
   "id": "c5e38873",
   "metadata": {},
   "source": [
    "<font color=blue>__Using Linear regression:__"
   ]
  },
  {
   "cell_type": "code",
   "execution_count": 50,
   "id": "eae638cb",
   "metadata": {},
   "outputs": [],
   "source": [
    "scaler = StandardScaler()\n",
    "scaler.fit(X_train)\n",
    "X_tr_scaled = scaler.transform(X_train)\n",
    "X_te_scaled = scaler.transform(X_test)"
   ]
  },
  {
   "cell_type": "code",
   "execution_count": 51,
   "id": "80e43fcd",
   "metadata": {},
   "outputs": [],
   "source": [
    "lm = LinearRegression().fit(X_tr_scaled, y_train)\n",
    "y_tr_pred = lm.predict(X_tr_scaled)\n",
    "y_te_pred = lm.predict(X_te_scaled )"
   ]
  },
  {
   "cell_type": "code",
   "execution_count": 52,
   "id": "beb446bc",
   "metadata": {},
   "outputs": [
    {
     "data": {
      "text/plain": [
       "(12674.34263499359, 3558956587977189.5)"
      ]
     },
     "execution_count": 52,
     "metadata": {},
     "output_type": "execute_result"
    }
   ],
   "source": [
    "mae = mean_absolute_error(y_train, y_tr_pred),mean_absolute_error(y_test, y_te_pred)\n",
    "mae"
   ]
  },
  {
   "cell_type": "code",
   "execution_count": 53,
   "id": "01d2cf8e",
   "metadata": {},
   "outputs": [
    {
     "data": {
      "text/plain": [
       "33295726541.326717"
      ]
     },
     "execution_count": 53,
     "metadata": {},
     "output_type": "execute_result"
    }
   ],
   "source": [
    "mape_lr = mean_absolute_percentage_error(y_test, y_te_pred)\n",
    "mape_lr"
   ]
  },
  {
   "cell_type": "markdown",
   "id": "13678b8f",
   "metadata": {},
   "source": [
    "<font color=blue>__Using KNN:__"
   ]
  },
  {
   "cell_type": "code",
   "execution_count": 54,
   "id": "2f9eb0d9",
   "metadata": {},
   "outputs": [],
   "source": [
    "knn_regressor = KNeighborsRegressor(n_neighbors=5)\n",
    "\n",
    "# Fit the model to the SAME training data\n",
    "knn_regressor.fit(X_tr_scaled, y_train)\n",
    "\n",
    "\n",
    "y_tr_pred_knn = knn_regressor.predict(X_tr_scaled)\n",
    "y_te_pred_knn = knn_regressor.predict(X_te_scaled)\n"
   ]
  },
  {
   "cell_type": "code",
   "execution_count": 55,
   "id": "0f013aec",
   "metadata": {},
   "outputs": [
    {
     "data": {
      "text/plain": [
       "(20360.157534246577, 27822.49406392694)"
      ]
     },
     "execution_count": 55,
     "metadata": {},
     "output_type": "execute_result"
    }
   ],
   "source": [
    "# Calculate MAE\n",
    "mae = mean_absolute_error(y_train, y_tr_pred_knn ),mean_absolute_error(y_test,y_te_pred_knn)\n",
    "mae"
   ]
  },
  {
   "cell_type": "code",
   "execution_count": 56,
   "id": "02374dfe",
   "metadata": {},
   "outputs": [
    {
     "data": {
      "text/plain": [
       "0.15651933976253993"
      ]
     },
     "execution_count": 56,
     "metadata": {},
     "output_type": "execute_result"
    }
   ],
   "source": [
    "\n",
    "mape_knn = mean_absolute_percentage_error(y_test, y_te_pred_knn)\n",
    "mape_knn"
   ]
  },
  {
   "cell_type": "markdown",
   "id": "e4015481",
   "metadata": {},
   "source": [
    "<font color=blue>__MAPE with SCALED data from both the models for the test set__"
   ]
  },
  {
   "cell_type": "code",
   "execution_count": 57,
   "id": "94b07f51",
   "metadata": {},
   "outputs": [
    {
     "name": "stdout",
     "output_type": "stream",
     "text": [
      "The mean absolute percentage error with Linear Regression is: 33295726541.326717 \n",
      "The mean absolute error with KNN regression is: 0.15651933976253993\n"
     ]
    }
   ],
   "source": [
    "print('The mean absolute percentage error with Linear Regression is:', mape_lr, '\\nThe mean absolute error with KNN regression is:', mape_knn)"
   ]
  },
  {
   "cell_type": "markdown",
   "id": "4bbb8e5e",
   "metadata": {},
   "source": [
    "## 3.9 Save data<a id='3.9_Save_data'></a>"
   ]
  },
  {
   "cell_type": "markdown",
   "id": "4ed9582b",
   "metadata": {},
   "source": [
    "from library.sb_utils import save_file\n",
    "df=house_data \n",
    "datapath = './cleaned_data'\n",
    "save_file(df, 'house_data_cleaned_3.csv', datapath) "
   ]
  },
  {
   "cell_type": "markdown",
   "id": "757ecec6",
   "metadata": {},
   "source": [
    "## 3.10 Summary<a id='3.10_Summary'></a>"
   ]
  },
  {
   "cell_type": "markdown",
   "id": "a7e14890",
   "metadata": {},
   "source": [
    "\n",
    "In the modeling notebook, it was found that the data exhibited a highly non-linear pattern, leading to unsatisfactory performance of the linear regression model. The presence of heterogeneity in the data after clustering further complicated the modeling process. To address these challenges, the K-nearest neighbors (KNN) algorithm was employed, resulting in improved results compared to linear regression. However, the KNN model still showed high mean absolute percentage error (MAPE) and a wide spread of residual values. These findings highlight the difficulty in accurately predicting the target variable in this non-linear and potentially heterogeneous dataset, suggesting the need for advanced modeling techniques or alternative algorithms to enhance performance."
   ]
  },
  {
   "cell_type": "markdown",
   "id": "7235cd9c",
   "metadata": {},
   "source": [
    "[<a href=\"#3.Modeling\">Back to top</a>]"
   ]
  }
 ],
 "metadata": {
  "kernelspec": {
   "display_name": "Python 3 (ipykernel)",
   "language": "python",
   "name": "python3"
  },
  "language_info": {
   "codemirror_mode": {
    "name": "ipython",
    "version": 3
   },
   "file_extension": ".py",
   "mimetype": "text/x-python",
   "name": "python",
   "nbconvert_exporter": "python",
   "pygments_lexer": "ipython3",
   "version": "3.10.9"
  }
 },
 "nbformat": 4,
 "nbformat_minor": 5
}
