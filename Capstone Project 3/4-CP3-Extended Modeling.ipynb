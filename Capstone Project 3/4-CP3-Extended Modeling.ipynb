{
 "cells": [
  {
   "cell_type": "markdown",
   "id": "ade81b80",
   "metadata": {},
   "source": [
    "### 4.1 Contents<a id='4.1_Contents'></a>\n",
    "\n",
    "  * [4.2 Load The Data](#4.2_Load_The_Data)      \n",
    "  * [4.3 Future forcast](#4.3_Future_forcast)\n",
    "  * [4.4 AutoML mljar](#4.4_AutoML_mljar)\n",
    "  * [4.5 Summary](#4.5_Summary)\n",
    "  "
   ]
  },
  {
   "cell_type": "markdown",
   "id": "8e5caaf7",
   "metadata": {},
   "source": [
    "[<a href=\"#4.1_Contents\">Back to top</a>] "
   ]
  },
  {
   "cell_type": "code",
   "execution_count": 1,
   "id": "b9ffa50d",
   "metadata": {},
   "outputs": [],
   "source": [
    "import pandas as pd\n",
    "import pickle\n",
    "import pandas as pd\n",
    "from statsmodels.tsa.statespace.sarimax import SARIMAX\n",
    "from pmdarima.arima import auto_arima\n",
    "import matplotlib.pyplot as plt"
   ]
  },
  {
   "cell_type": "markdown",
   "id": "41b56144",
   "metadata": {},
   "source": [
    "### 4.2  Load The Data<a id='4.2_Load_The_Data'></a>     "
   ]
  },
  {
   "cell_type": "code",
   "execution_count": 2,
   "id": "3ee11589",
   "metadata": {},
   "outputs": [],
   "source": [
    "train_df= pd.read_pickle(\"./Data/train.pkl\")\n",
    "test_df = pd.read_pickle(\"./Data/test.pkl\")"
   ]
  },
  {
   "cell_type": "code",
   "execution_count": 3,
   "id": "1fb0f81a",
   "metadata": {},
   "outputs": [
    {
     "data": {
      "text/html": [
       "<div>\n",
       "<style scoped>\n",
       "    .dataframe tbody tr th:only-of-type {\n",
       "        vertical-align: middle;\n",
       "    }\n",
       "\n",
       "    .dataframe tbody tr th {\n",
       "        vertical-align: top;\n",
       "    }\n",
       "\n",
       "    .dataframe thead th {\n",
       "        text-align: right;\n",
       "    }\n",
       "</style>\n",
       "<table border=\"1\" class=\"dataframe\">\n",
       "  <thead>\n",
       "    <tr style=\"text-align: right;\">\n",
       "      <th></th>\n",
       "      <th>Call count</th>\n",
       "    </tr>\n",
       "    <tr>\n",
       "      <th>Date</th>\n",
       "      <th></th>\n",
       "    </tr>\n",
       "  </thead>\n",
       "  <tbody>\n",
       "    <tr>\n",
       "      <th>2021-04-30</th>\n",
       "      <td>241648</td>\n",
       "    </tr>\n",
       "    <tr>\n",
       "      <th>2021-05-31</th>\n",
       "      <td>274411</td>\n",
       "    </tr>\n",
       "    <tr>\n",
       "      <th>2021-06-30</th>\n",
       "      <td>301378</td>\n",
       "    </tr>\n",
       "  </tbody>\n",
       "</table>\n",
       "</div>"
      ],
      "text/plain": [
       "            Call count\n",
       "Date                  \n",
       "2021-04-30      241648\n",
       "2021-05-31      274411\n",
       "2021-06-30      301378"
      ]
     },
     "metadata": {},
     "output_type": "display_data"
    },
    {
     "data": {
      "text/html": [
       "<div>\n",
       "<style scoped>\n",
       "    .dataframe tbody tr th:only-of-type {\n",
       "        vertical-align: middle;\n",
       "    }\n",
       "\n",
       "    .dataframe tbody tr th {\n",
       "        vertical-align: top;\n",
       "    }\n",
       "\n",
       "    .dataframe thead th {\n",
       "        text-align: right;\n",
       "    }\n",
       "</style>\n",
       "<table border=\"1\" class=\"dataframe\">\n",
       "  <thead>\n",
       "    <tr style=\"text-align: right;\">\n",
       "      <th></th>\n",
       "      <th>Call count</th>\n",
       "    </tr>\n",
       "    <tr>\n",
       "      <th>Date</th>\n",
       "      <th></th>\n",
       "    </tr>\n",
       "  </thead>\n",
       "  <tbody>\n",
       "    <tr>\n",
       "      <th>2021-07-31</th>\n",
       "      <td>303152</td>\n",
       "    </tr>\n",
       "    <tr>\n",
       "      <th>2021-08-31</th>\n",
       "      <td>282244</td>\n",
       "    </tr>\n",
       "    <tr>\n",
       "      <th>2021-09-30</th>\n",
       "      <td>317507</td>\n",
       "    </tr>\n",
       "  </tbody>\n",
       "</table>\n",
       "</div>"
      ],
      "text/plain": [
       "            Call count\n",
       "Date                  \n",
       "2021-07-31      303152\n",
       "2021-08-31      282244\n",
       "2021-09-30      317507"
      ]
     },
     "metadata": {},
     "output_type": "display_data"
    },
    {
     "data": {
      "text/html": [
       "<div>\n",
       "<style scoped>\n",
       "    .dataframe tbody tr th:only-of-type {\n",
       "        vertical-align: middle;\n",
       "    }\n",
       "\n",
       "    .dataframe tbody tr th {\n",
       "        vertical-align: top;\n",
       "    }\n",
       "\n",
       "    .dataframe thead th {\n",
       "        text-align: right;\n",
       "    }\n",
       "</style>\n",
       "<table border=\"1\" class=\"dataframe\">\n",
       "  <thead>\n",
       "    <tr style=\"text-align: right;\">\n",
       "      <th></th>\n",
       "      <th>Call count</th>\n",
       "    </tr>\n",
       "    <tr>\n",
       "      <th>Date</th>\n",
       "      <th></th>\n",
       "    </tr>\n",
       "  </thead>\n",
       "  <tbody>\n",
       "    <tr>\n",
       "      <th>2022-10-31</th>\n",
       "      <td>267062</td>\n",
       "    </tr>\n",
       "    <tr>\n",
       "      <th>2022-11-30</th>\n",
       "      <td>246526</td>\n",
       "    </tr>\n",
       "    <tr>\n",
       "      <th>2022-12-31</th>\n",
       "      <td>260642</td>\n",
       "    </tr>\n",
       "  </tbody>\n",
       "</table>\n",
       "</div>"
      ],
      "text/plain": [
       "            Call count\n",
       "Date                  \n",
       "2022-10-31      267062\n",
       "2022-11-30      246526\n",
       "2022-12-31      260642"
      ]
     },
     "metadata": {},
     "output_type": "display_data"
    }
   ],
   "source": [
    "display(train_df.tail(3), test_df.head(3),test_df.tail(3))"
   ]
  },
  {
   "cell_type": "markdown",
   "id": "26a83ef5",
   "metadata": {},
   "source": [
    "### 4.3  Future forcast<a id='4.3_Future_forcast'></a>     "
   ]
  },
  {
   "cell_type": "markdown",
   "id": "a722eabb",
   "metadata": {},
   "source": [
    "[<a href=\"#4.1_Contents\">Back to top</a>] "
   ]
  },
  {
   "cell_type": "code",
   "execution_count": 4,
   "id": "832d509c",
   "metadata": {},
   "outputs": [
    {
     "name": "stderr",
     "output_type": "stream",
     "text": [
      "C:\\Users\\asiya\\anaconda3\\envs\\cp3\\lib\\site-packages\\statsmodels\\tsa\\base\\tsa_model.py:473: ValueWarning: No frequency information was provided, so inferred frequency M will be used.\n",
      "  self._init_dates(dates, freq)\n",
      "C:\\Users\\asiya\\anaconda3\\envs\\cp3\\lib\\site-packages\\statsmodels\\tsa\\base\\tsa_model.py:473: ValueWarning: No frequency information was provided, so inferred frequency M will be used.\n",
      "  self._init_dates(dates, freq)\n",
      "C:\\Users\\asiya\\anaconda3\\envs\\cp3\\lib\\site-packages\\statsmodels\\tsa\\statespace\\sarimax.py:966: UserWarning: Non-stationary starting autoregressive parameters found. Using zeros as starting parameters.\n",
      "  warn('Non-stationary starting autoregressive parameters'\n",
      "C:\\Users\\asiya\\anaconda3\\envs\\cp3\\lib\\site-packages\\statsmodels\\tsa\\statespace\\sarimax.py:978: UserWarning: Non-invertible starting MA parameters found. Using zeros as starting parameters.\n",
      "  warn('Non-invertible starting MA parameters found.'\n"
     ]
    },
    {
     "data": {
      "text/plain": [
       "Text(0.5, 1.0, 'SARIMA predicted Calls')"
      ]
     },
     "execution_count": 4,
     "metadata": {},
     "output_type": "execute_result"
    },
    {
     "data": {
      "image/png": "[encoded data removed]",
      "text/plain": [
       "<Figure size 800x400 with 1 Axes>"
      ]
     },
     "metadata": {},
     "output_type": "display_data"
    }
   ],
   "source": [
    "model_SARIMA = SARIMAX(train_df[\"Call count\"], order=(1, 1, 1), seasonal_order=(0, 1, 0, 11))\n",
    "model_SARIMA_fit = model_SARIMA.fit()\n",
    "pred_dates = pd.date_range(start=\"2023-01-31\", end=\"2023-08-31\", freq=\"M\")\n",
    "pred_df = pd.DataFrame({'Date': pred_dates, 'calls': model_SARIMA_fit.predict(start=pred_dates[0], end=pred_dates[-1])})\n",
    "pred_df.set_index('Date', inplace=True)\n",
    "\n",
    "fig, ax1 = plt.subplots(figsize=(8, 4))\n",
    "fig.tight_layout()\n",
    "fig.autofmt_xdate()\n",
    "\n",
    "# plot the training data, testing data, and predictions\n",
    "ax1.set_xlabel(\"Date\")\n",
    "ax1.set_ylabel(\"Calls\")\n",
    "ax1.plot(train_df[\"Call count\"], label=\"Training Data\")\n",
    "ax1.plot(test_df[\"Call count\"], label=\"Test Data\")\n",
    "ax1.plot(pred_df ['calls'], label=\"SARIMA Predictions\", ls='--')\n",
    "ax1.legend()\n",
    "ax1.set_title(\"SARIMA predicted Calls\")"
   ]
  },
  {
   "cell_type": "markdown",
   "id": "fe8c4175",
   "metadata": {},
   "source": [
    "### 4.4  AutoML mljar<a id='4.4_AutoML_mljar'></a>     "
   ]
  },
  {
   "cell_type": "markdown",
   "id": "8b5beb83",
   "metadata": {},
   "source": [
    "[<a href=\"#4.1_Contents\">Back to top</a>] "
   ]
  },
  {
   "cell_type": "code",
   "execution_count": 5,
   "id": "8ada52b0",
   "metadata": {},
   "outputs": [
    {
     "name": "stderr",
     "output_type": "stream",
     "text": [
      "Using `tqdm.autonotebook.tqdm` in notebook mode. Use `tqdm.tqdm` instead to force console mode (e.g. in jupyter console)\n"
     ]
    },
    {
     "name": "stdout",
     "output_type": "stream",
     "text": [
      "AutoML directory: AutoML_2\n",
      "The task is multiclass_classification with evaluation metric logloss\n",
      "AutoML will use algorithms: ['Decision Tree', 'Linear', 'Random Forest', 'Extra Trees', 'LightGBM', 'Xgboost', 'CatBoost', 'Neural Network', 'Nearest Neighbors']\n",
      "AutoML will stack models\n",
      "AutoML will ensemble available models\n",
      "AutoML steps: ['adjust_validation', 'simple_algorithms', 'default_algorithms', 'not_so_random', 'golden_features', 'kmeans_features', 'insert_random_feature', 'features_selection', 'hill_climbing_1', 'hill_climbing_2', 'boost_on_errors', 'ensemble', 'stack', 'ensemble_stacked']\n",
      "* Step adjust_validation will try to check up to 1 model\n",
      "1_DecisionTree logloss 2.334817 trained in 0.61 seconds\n",
      "Adjust validation. Remove: 1_DecisionTree\n",
      "*** Disable stacking for small dataset (nrows < 500)\n",
      "Validation strategy: 10-fold CV Shuffle,Stratify\n",
      "* Step simple_algorithms will try to check up to 4 models\n",
      "1_DecisionTree logloss 2.334817 trained in 1.96 seconds\n",
      "2_DecisionTree logloss 2.137941 trained in 2.02 seconds\n",
      "3_DecisionTree logloss 2.137941 trained in 2.2 seconds\n",
      "4_Linear logloss 0.156677 trained in 15.2 seconds\n",
      "* Step default_algorithms will try to check up to 7 models\n",
      "5_Default_LightGBM logloss 5.5e-05 trained in 36.2 seconds\n",
      "6_Default_Xgboost logloss 0.029716 trained in 36.65 seconds\n",
      "7_Default_CatBoost logloss 0.00023 trained in 338.14 seconds\n",
      "8_Default_NeuralNetwork logloss 0.182146 trained in 3.84 seconds\n",
      "9_Default_RandomForest logloss 1.407214 trained in 10.21 seconds\n",
      "10_Default_ExtraTrees logloss 0.538458 trained in 6.71 seconds\n",
      "11_Default_NearestNeighbors logloss 1.8e-05 trained in 3.78 seconds\n",
      "* Step not_so_random will try to check up to 61 models\n",
      "21_LightGBM logloss 4.8e-05 trained in 24.03 seconds\n",
      "12_Xgboost logloss 0.169067 trained in 34.95 seconds\n",
      "30_CatBoost logloss 0.000305 trained in 338.71 seconds\n",
      "39_RandomForest logloss 1.274787 trained in 13.05 seconds\n",
      "48_ExtraTrees logloss 0.677652 trained in 9.58 seconds\n",
      "57_NeuralNetwork logloss 0.84725 trained in 7.99 seconds\n",
      "66_NearestNeighbors logloss 1.8e-05 trained in 6.19 seconds\n",
      "22_LightGBM logloss 4.7e-05 trained in 12.49 seconds\n",
      "13_Xgboost logloss 0.029472 trained in 22.65 seconds\n",
      "31_CatBoost logloss 0.000195 trained in 326.82 seconds\n",
      "40_RandomForest logloss 0.793639 trained in 12.5 seconds\n",
      "49_ExtraTrees logloss 0.09184 trained in 11.32 seconds\n",
      "58_NeuralNetwork logloss 0.220345 trained in 6.98 seconds\n",
      "67_NearestNeighbors logloss 1.8e-05 trained in 6.12 seconds\n",
      "23_LightGBM logloss 4.7e-05 trained in 37.24 seconds\n",
      "14_Xgboost logloss 2.94445 trained in 9.52 seconds\n",
      "32_CatBoost logloss 0.000138 trained in 502.74 seconds\n",
      "41_RandomForest logloss 1.645651 trained in 18.27 seconds\n",
      "50_ExtraTrees logloss 1.001183 trained in 10.85 seconds\n",
      "59_NeuralNetwork logloss 0.106782 trained in 9.68 seconds\n",
      "68_NearestNeighbors logloss 1.8e-05 trained in 7.94 seconds\n",
      "24_LightGBM logloss 5.5e-05 trained in 32.34 seconds\n",
      "15_Xgboost logloss 2.944439 trained in 11.02 seconds\n",
      "33_CatBoost logloss 0.000168 trained in 527.22 seconds\n",
      "Skip golden_features because of the time limit.\n",
      "Skip kmeans_features because of the time limit.\n",
      "Not enough time to perform features selection. Skip\n",
      "Time needed for features selection ~ 421.0 seconds\n",
      "Please increase total_time_limit to at least (4267 seconds) to have features selection\n",
      "Skip insert_random_feature because no parameters were generated.\n",
      "Skip features_selection because no parameters were generated.\n",
      "* Step hill_climbing_1 will try to check up to 27 models\n",
      "69_NearestNeighbors logloss 1.8e-05 trained in 9.53 seconds\n",
      "70_NearestNeighbors logloss 1.8e-05 trained in 10.28 seconds\n",
      "71_LightGBM logloss 5.2e-05 trained in 17.46 seconds\n",
      "72_LightGBM logloss 4.6e-05 trained in 17.98 seconds\n",
      "73_LightGBM logloss 5.3e-05 trained in 43.23 seconds\n",
      "74_LightGBM logloss 4.7e-05 trained in 34.27 seconds\n",
      "75_LightGBM logloss 4.6e-05 trained in 41.12 seconds\n",
      "76_CatBoost logloss 0.000206 trained in 502.3 seconds\n",
      "* Step hill_climbing_2 will try to check up to 23 models\n",
      "77_LightGBM logloss 4.9e-05 trained in 17.36 seconds\n",
      "78_LightGBM logloss 4.8e-05 trained in 45.58 seconds\n",
      "79_LightGBM logloss 4.7e-05 trained in 43.11 seconds\n",
      "80_LightGBM logloss 4.8e-05 trained in 36.02 seconds\n",
      "81_LightGBM logloss 4.7e-05 trained in 37.07 seconds\n",
      "85_Xgboost logloss 0.17032 trained in 26.04 seconds\n"
     ]
    },
    {
     "name": "stderr",
     "output_type": "stream",
     "text": [
      "C:\\Users\\asiya\\anaconda3\\envs\\cp3\\lib\\site-packages\\sklearn\\preprocessing\\_encoders.py:868: FutureWarning: `sparse` was renamed to `sparse_output` in version 1.2 and will be removed in 1.4. `sparse_output` is ignored unless you leave `sparse` to its default value.\n"
     ]
    },
    {
     "name": "stdout",
     "output_type": "stream",
     "text": [
      "* Step boost_on_errors will try to check up to 1 model\n",
      "72_LightGBM_BoostOnErrors logloss 4.3e-05 trained in 20.29 seconds\n",
      "* Step ensemble will try to check up to 1 model\n",
      "Ensemble logloss 1.8e-05 trained in 17.12 seconds\n",
      "AutoML fit time: 3488.51 seconds\n",
      "AutoML best model: 11_Default_NearestNeighbors\n",
      "Root Mean Squared Error (RMSE): 40212.89975510701\n"
     ]
    }
   ],
   "source": [
    "from supervised.automl import AutoML\n",
    "\n",
    "# Load your time series data into train_df and test_df\n",
    "# Assuming 'Call count' is the column with call counts and 'Date' is the index\n",
    "\n",
    "# Create a lagged version of the time series data as additional features\n",
    "def create_lagged_features(data, lag):\n",
    "    for i in range(1, lag+1):\n",
    "        data[f'Call count Lag-{i}'] = data['Call count'].shift(i)\n",
    "    return data.dropna()\n",
    "\n",
    "lag = 11  # Choose the lag for the lagged features\n",
    "train_lagged = create_lagged_features(train_df, lag)\n",
    "test_lagged = create_lagged_features(test_df, lag)\n",
    "\n",
    "# Prepare data for AutoML\n",
    "X_train = train_lagged.drop('Call count', axis=1)\n",
    "y_train = train_lagged['Call count']\n",
    "X_test = test_lagged.drop('Call count', axis=1)\n",
    "y_test = test_lagged['Call count']\n",
    "\n",
    "# Initialize and train AutoML\n",
    "automl = AutoML(mode='Compete')\n",
    "automl.fit(X_train, y_train)\n",
    "\n",
    "# Make predictions using AutoML\n",
    "predictions = automl.predict(X_test)\n",
    "\n",
    "# Evaluate AutoML model\n",
    "rmse = ((predictions - y_test) ** 2).mean() ** 0.5\n",
    "print(f\"Root Mean Squared Error (RMSE): {rmse}\")"
   ]
  },
  {
   "cell_type": "markdown",
   "id": "5220c484",
   "metadata": {},
   "source": [
    "### 4.5  Summary<a id='4.5_Summary'></a>     "
   ]
  },
  {
   "cell_type": "markdown",
   "id": "2bbcc351",
   "metadata": {},
   "source": [
    "\n",
    "In this notebook, I employed the Seasonal Autoregressive Integrated Moving Average (SARIMA) model to project the volume of incoming calls over the upcoming 7 months (January 2023 to July 2023). Subsequently, I leveraged a sophisticated tool known as \"mljar-supervised,\" capable of conducting simultaneous experimentation with various models including Random Forest, Gradient Boosting, and more.\n",
    "\n",
    "The standout outcome from this tool was (AutoML best model): \"11_Default_NearestNeighbors.\" While not flawless, it emerged as the most promising candidate among all the models evaluated, yielding a prediction with a Root Mean Squared Error (RMSE) of 40212.89.\n",
    "\n",
    "Interestingly, our conventional SARIMA approach continued to demonstrate its efficacy. It generated a prediction with an RMSE of approximately 20161.45 and showcased the lowest Mean Absolute Percentage Error (MAPE) of 0.060617.\n",
    "\n",
    "The collective projections from the models assessed collectively indicate a declining trend in call volume for 2023 compared to the figures recorded in 2022."
   ]
  },
  {
   "cell_type": "markdown",
   "id": "154aaea5",
   "metadata": {},
   "source": [
    "[<a href=\"#4.1_Contents\">Back to top</a>] "
   ]
  },
  {
   "cell_type": "code",
   "execution_count": null,
   "id": "bc577671",
   "metadata": {},
   "outputs": [],
   "source": []
  }
 ],
 "metadata": {
  "kernelspec": {
   "display_name": "Python 3 (ipykernel)",
   "language": "python",
   "name": "python3"
  },
  "language_info": {
   "codemirror_mode": {
    "name": "ipython",
    "version": 3
   },
   "file_extension": ".py",
   "mimetype": "text/x-python",
   "name": "python",
   "nbconvert_exporter": "python",
   "pygments_lexer": "ipython3",
   "version": "3.10.9"
  }
 },
 "nbformat": 4,
 "nbformat_minor": 5
}
